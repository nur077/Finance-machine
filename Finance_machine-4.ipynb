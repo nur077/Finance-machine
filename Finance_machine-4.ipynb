{
  "nbformat": 4,
  "nbformat_minor": 0,
  "metadata": {
    "colab": {
      "name": "Finance-machine.ipynb",
      "provenance": [],
      "collapsed_sections": []
    },
    "kernelspec": {
      "display_name": "Python 3",
      "name": "python3"
    },
    "accelerator": "GPU"
  },
  "cells": [
    {
      "cell_type": "markdown",
      "metadata": {
        "id": "HgyKyA0zaL5J"
      },
      "source": [
        "# Подготовка рабочей среды\n",
        "специально для gColab"
      ]
    },
    {
      "cell_type": "code",
      "metadata": {
        "id": "zU01wdP16dCO"
      },
      "source": [
        "# Подключаем библиотеки для этого проекта:\n",
        "\n",
        "import requests\n",
        "# библиотека для работы с httml кодом (нам она нужна для работы с API)\n",
        "\n",
        "import pandas as pd\n",
        "# библиотека для работы базами данных\n",
        "\n",
        "import time\n",
        "# подклячаем библиотеку работы со времинем\n",
        "\n",
        "from IPython.display import display\n",
        "# функция для хорошо отбражения результата"
      ],
      "execution_count": null,
      "outputs": []
    },
    {
      "cell_type": "code",
      "metadata": {
        "id": "TpAGPZc6xmxB",
        "colab": {
          "base_uri": "https://localhost:8080/"
        },
        "outputId": "d27c0c1f-666e-41af-8499-ad5d9e6a3a95"
      },
      "source": [
        "# Это код, чтобы почистить диспечер файлов твоей среды выполнения\n",
        "!rm -R sample_data\n",
        "# Удаляет директорию (папку) sample_data\n",
        "!mkdir database\n",
        "# Создает директорию (папку) datasets, где я храню базыданных"
      ],
      "execution_count": null,
      "outputs": [
        {
          "output_type": "stream",
          "text": [
            "rm: cannot remove 'sample_data': No such file or directory\n",
            "mkdir: cannot create directory ‘database’: File exists\n"
          ],
          "name": "stdout"
        }
      ]
    },
    {
      "cell_type": "code",
      "metadata": {
        "colab": {
          "base_uri": "https://localhost:8080/"
        },
        "id": "IreZ8Jx-etgC",
        "outputId": "f70b97bd-0ce8-4b18-8ebb-f35cd65cca05"
      },
      "source": [
        "from google.colab import drive\n",
        "drive.mount('/content/drive')\n",
        "# присоединить среду выполнения со своим гугл диском, другие пользователи доступа к нему иметь не будут\n",
        "# но ты сможешь получить доступ к общей папке с проектом, которая будет у тебя на гугл диске\n",
        "# созданные базыданных мы будем сохранять там, чтоб каждый раз из заново не строить"
      ],
      "execution_count": null,
      "outputs": [
        {
          "output_type": "stream",
          "text": [
            "Drive already mounted at /content/drive; to attempt to forcibly remount, call drive.mount(\"/content/drive\", force_remount=True).\n"
          ],
          "name": "stdout"
        }
      ]
    },
    {
      "cell_type": "markdown",
      "metadata": {
        "id": "AlqI2l7blfyo"
      },
      "source": [
        "# Создание баз данных"
      ]
    },
    {
      "cell_type": "markdown",
      "metadata": {
        "id": "c0qUols5chY-"
      },
      "source": [
        "## Создание первой базы данных"
      ]
    },
    {
      "cell_type": "markdown",
      "metadata": {
        "id": "OAs-UUfMg5G6"
      },
      "source": [
        "После многочасовых поисков и тестов подходящего API сервиса я выбрал Intrinio. Он предоставляет данные на конец дня, исторические данные, данные за день и в режиме реального времени, которые вы можете использовать для построения своего финансового продукта. Это позволяет загружать точные исторические рыночные данные за последние 5-50 лет. Важно отметить, что только акций на US биржах. Большим плюсом является то,что Intrinio в реализованы SDKS для python. Были также рассмотрены: apimoex, Marketstack, Finnhub, Barchart, IEX Cloud API."
      ]
    },
    {
      "cell_type": "code",
      "metadata": {
        "colab": {
          "base_uri": "https://localhost:8080/"
        },
        "id": "V9AFi0QElg0s",
        "outputId": "d9a75905-acc4-4b50-c8d5-4aea0285df66"
      },
      "source": [
        "pip install intrinio-sdk"
      ],
      "execution_count": null,
      "outputs": [
        {
          "output_type": "stream",
          "text": [
            "Collecting intrinio-sdk\n",
            "\u001b[?25l  Downloading https://files.pythonhosted.org/packages/0f/4a/0b4b93c44fb7e49932eefe7bdf29884115ec37e90d152321f38829be76f0/intrinio_sdk-5.12.0-py3-none-any.whl (851kB)\n",
            "\u001b[K     |████████████████████████████████| 860kB 4.0MB/s \n",
            "\u001b[?25hRequirement already satisfied: urllib3>=1.15 in /usr/local/lib/python3.7/dist-packages (from intrinio-sdk) (1.24.3)\n",
            "Requirement already satisfied: certifi in /usr/local/lib/python3.7/dist-packages (from intrinio-sdk) (2020.12.5)\n",
            "Requirement already satisfied: six>=1.10 in /usr/local/lib/python3.7/dist-packages (from intrinio-sdk) (1.15.0)\n",
            "Requirement already satisfied: retrying>=1.3.3 in /usr/local/lib/python3.7/dist-packages (from intrinio-sdk) (1.3.3)\n",
            "Requirement already satisfied: python-dateutil in /usr/local/lib/python3.7/dist-packages (from intrinio-sdk) (2.8.1)\n",
            "Installing collected packages: intrinio-sdk\n",
            "Successfully installed intrinio-sdk-5.12.0\n"
          ],
          "name": "stdout"
        }
      ]
    },
    {
      "cell_type": "markdown",
      "metadata": {
        "id": "_cmWvxOF_APw"
      },
      "source": [
        "Код ниже не запускать!!!"
      ]
    },
    {
      "cell_type": "code",
      "metadata": {
        "colab": {
          "base_uri": "https://localhost:8080/",
          "height": 647
        },
        "id": "PnEkOuvfZaLx",
        "outputId": "ffb43ff8-9721-40b7-f6bd-8dffa3c9ddd8"
      },
      "source": [
        "import intrinio_sdk\n",
        "from __future__ import print_function\n",
        "import intrinio_sdk as intrinio\n",
        "from intrinio_sdk.rest import ApiException\n",
        "\n",
        "intrinio.ApiClient().set_api_key('OmFkOWYxMWIxYmViN2M0NzgyMzNiNzFmZjQ1ZTA4M2Vi')\n",
        "intrinio.ApiClient().allow_retries(True)\n",
        "\n",
        "identifier = 'AAPL'\n",
        "tag = 'close_price'\n",
        "frequency = 'daily'\n",
        "type = ''\n",
        "start_date = '2015-01-01'\n",
        "end_date = ''\n",
        "sort_order = 'desc'\n",
        "page_size = 10000\n",
        "next_page = ''\n",
        "\n",
        "\n",
        "idfidentifier_list = pd.read_excel('/content/drive/MyDrive/Finance machine/Компании S&P 500 Index.xlsx')\n",
        "# по идее если ты подключишь свой гугл драйв сюда и на гугл диске у тебя будет папка нашего проекта\n",
        "# то путь к файлу будет таким же\n",
        "\n",
        "\n",
        "df = list()\n",
        "date = ['date']\n",
        "response = intrinio.HistoricalDataApi().get_historical_data(identifier, tag, frequency=frequency, type=type, start_date=start_date, end_date=end_date, sort_order=sort_order, page_size=page_size, next_page=next_page)\n",
        "for elem in response.historical_data:\n",
        "    date.append(elem.date)\n",
        "df.append(date)\n",
        "print(123)\n",
        "\n",
        "i = 0\n",
        "idfidentifier_list = idfidentifier_list['Символ']\n",
        "for identifier in idfidentifier_list:\n",
        "    if i > 400:\n",
        "        break\n",
        "    i += 1\n",
        "    try:\n",
        "        response = intrinio.HistoricalDataApi().get_historical_data(identifier, tag, frequency=frequency, type=type, start_date=start_date, end_date=end_date, sort_order=sort_order, page_size=page_size, next_page=next_page)\n",
        "    except:\n",
        "        continue\n",
        "    value = [identifier]\n",
        "    for elem in response.historical_data:\n",
        "        value.append(elem.value)\n",
        "    value.append(identifier)\n",
        "    df.append(value)\n",
        "    print(i, identifier)"
      ],
      "execution_count": null,
      "outputs": [
        {
          "output_type": "stream",
          "text": [
            "123\n"
          ],
          "name": "stdout"
        },
        {
          "output_type": "error",
          "ename": "KeyError",
          "evalue": "ignored",
          "traceback": [
            "\u001b[0;31m---------------------------------------------------------------------------\u001b[0m",
            "\u001b[0;31mKeyError\u001b[0m                                  Traceback (most recent call last)",
            "\u001b[0;32m/usr/local/lib/python3.7/dist-packages/pandas/core/indexes/base.py\u001b[0m in \u001b[0;36mget_loc\u001b[0;34m(self, key, method, tolerance)\u001b[0m\n\u001b[1;32m   2897\u001b[0m             \u001b[0;32mtry\u001b[0m\u001b[0;34m:\u001b[0m\u001b[0;34m\u001b[0m\u001b[0;34m\u001b[0m\u001b[0m\n\u001b[0;32m-> 2898\u001b[0;31m                 \u001b[0;32mreturn\u001b[0m \u001b[0mself\u001b[0m\u001b[0;34m.\u001b[0m\u001b[0m_engine\u001b[0m\u001b[0;34m.\u001b[0m\u001b[0mget_loc\u001b[0m\u001b[0;34m(\u001b[0m\u001b[0mcasted_key\u001b[0m\u001b[0;34m)\u001b[0m\u001b[0;34m\u001b[0m\u001b[0;34m\u001b[0m\u001b[0m\n\u001b[0m\u001b[1;32m   2899\u001b[0m             \u001b[0;32mexcept\u001b[0m \u001b[0mKeyError\u001b[0m \u001b[0;32mas\u001b[0m \u001b[0merr\u001b[0m\u001b[0;34m:\u001b[0m\u001b[0;34m\u001b[0m\u001b[0;34m\u001b[0m\u001b[0m\n",
            "\u001b[0;32mpandas/_libs/index.pyx\u001b[0m in \u001b[0;36mpandas._libs.index.IndexEngine.get_loc\u001b[0;34m()\u001b[0m\n",
            "\u001b[0;32mpandas/_libs/index.pyx\u001b[0m in \u001b[0;36mpandas._libs.index.IndexEngine.get_loc\u001b[0;34m()\u001b[0m\n",
            "\u001b[0;32mpandas/_libs/hashtable_class_helper.pxi\u001b[0m in \u001b[0;36mpandas._libs.hashtable.PyObjectHashTable.get_item\u001b[0;34m()\u001b[0m\n",
            "\u001b[0;32mpandas/_libs/hashtable_class_helper.pxi\u001b[0m in \u001b[0;36mpandas._libs.hashtable.PyObjectHashTable.get_item\u001b[0;34m()\u001b[0m\n",
            "\u001b[0;31mKeyError\u001b[0m: 'Символ'",
            "\nThe above exception was the direct cause of the following exception:\n",
            "\u001b[0;31mKeyError\u001b[0m                                  Traceback (most recent call last)",
            "\u001b[0;32m<ipython-input-5-3bbbafa11ec4>\u001b[0m in \u001b[0;36m<module>\u001b[0;34m()\u001b[0m\n\u001b[1;32m     32\u001b[0m \u001b[0;34m\u001b[0m\u001b[0m\n\u001b[1;32m     33\u001b[0m \u001b[0mi\u001b[0m \u001b[0;34m=\u001b[0m \u001b[0;36m0\u001b[0m\u001b[0;34m\u001b[0m\u001b[0;34m\u001b[0m\u001b[0m\n\u001b[0;32m---> 34\u001b[0;31m \u001b[0midfidentifier_list\u001b[0m \u001b[0;34m=\u001b[0m \u001b[0midfidentifier_list\u001b[0m\u001b[0;34m[\u001b[0m\u001b[0;34m'Символ'\u001b[0m\u001b[0;34m]\u001b[0m\u001b[0;34m\u001b[0m\u001b[0;34m\u001b[0m\u001b[0m\n\u001b[0m\u001b[1;32m     35\u001b[0m \u001b[0;32mfor\u001b[0m \u001b[0midentifier\u001b[0m \u001b[0;32min\u001b[0m \u001b[0midfidentifier_list\u001b[0m\u001b[0;34m:\u001b[0m\u001b[0;34m\u001b[0m\u001b[0;34m\u001b[0m\u001b[0m\n\u001b[1;32m     36\u001b[0m     \u001b[0;32mif\u001b[0m \u001b[0mi\u001b[0m \u001b[0;34m>\u001b[0m \u001b[0;36m400\u001b[0m\u001b[0;34m:\u001b[0m\u001b[0;34m\u001b[0m\u001b[0;34m\u001b[0m\u001b[0m\n",
            "\u001b[0;32m/usr/local/lib/python3.7/dist-packages/pandas/core/frame.py\u001b[0m in \u001b[0;36m__getitem__\u001b[0;34m(self, key)\u001b[0m\n\u001b[1;32m   2904\u001b[0m             \u001b[0;32mif\u001b[0m \u001b[0mself\u001b[0m\u001b[0;34m.\u001b[0m\u001b[0mcolumns\u001b[0m\u001b[0;34m.\u001b[0m\u001b[0mnlevels\u001b[0m \u001b[0;34m>\u001b[0m \u001b[0;36m1\u001b[0m\u001b[0;34m:\u001b[0m\u001b[0;34m\u001b[0m\u001b[0;34m\u001b[0m\u001b[0m\n\u001b[1;32m   2905\u001b[0m                 \u001b[0;32mreturn\u001b[0m \u001b[0mself\u001b[0m\u001b[0;34m.\u001b[0m\u001b[0m_getitem_multilevel\u001b[0m\u001b[0;34m(\u001b[0m\u001b[0mkey\u001b[0m\u001b[0;34m)\u001b[0m\u001b[0;34m\u001b[0m\u001b[0;34m\u001b[0m\u001b[0m\n\u001b[0;32m-> 2906\u001b[0;31m             \u001b[0mindexer\u001b[0m \u001b[0;34m=\u001b[0m \u001b[0mself\u001b[0m\u001b[0;34m.\u001b[0m\u001b[0mcolumns\u001b[0m\u001b[0;34m.\u001b[0m\u001b[0mget_loc\u001b[0m\u001b[0;34m(\u001b[0m\u001b[0mkey\u001b[0m\u001b[0;34m)\u001b[0m\u001b[0;34m\u001b[0m\u001b[0;34m\u001b[0m\u001b[0m\n\u001b[0m\u001b[1;32m   2907\u001b[0m             \u001b[0;32mif\u001b[0m \u001b[0mis_integer\u001b[0m\u001b[0;34m(\u001b[0m\u001b[0mindexer\u001b[0m\u001b[0;34m)\u001b[0m\u001b[0;34m:\u001b[0m\u001b[0;34m\u001b[0m\u001b[0;34m\u001b[0m\u001b[0m\n\u001b[1;32m   2908\u001b[0m                 \u001b[0mindexer\u001b[0m \u001b[0;34m=\u001b[0m \u001b[0;34m[\u001b[0m\u001b[0mindexer\u001b[0m\u001b[0;34m]\u001b[0m\u001b[0;34m\u001b[0m\u001b[0;34m\u001b[0m\u001b[0m\n",
            "\u001b[0;32m/usr/local/lib/python3.7/dist-packages/pandas/core/indexes/base.py\u001b[0m in \u001b[0;36mget_loc\u001b[0;34m(self, key, method, tolerance)\u001b[0m\n\u001b[1;32m   2898\u001b[0m                 \u001b[0;32mreturn\u001b[0m \u001b[0mself\u001b[0m\u001b[0;34m.\u001b[0m\u001b[0m_engine\u001b[0m\u001b[0;34m.\u001b[0m\u001b[0mget_loc\u001b[0m\u001b[0;34m(\u001b[0m\u001b[0mcasted_key\u001b[0m\u001b[0;34m)\u001b[0m\u001b[0;34m\u001b[0m\u001b[0;34m\u001b[0m\u001b[0m\n\u001b[1;32m   2899\u001b[0m             \u001b[0;32mexcept\u001b[0m \u001b[0mKeyError\u001b[0m \u001b[0;32mas\u001b[0m \u001b[0merr\u001b[0m\u001b[0;34m:\u001b[0m\u001b[0;34m\u001b[0m\u001b[0;34m\u001b[0m\u001b[0m\n\u001b[0;32m-> 2900\u001b[0;31m                 \u001b[0;32mraise\u001b[0m \u001b[0mKeyError\u001b[0m\u001b[0;34m(\u001b[0m\u001b[0mkey\u001b[0m\u001b[0;34m)\u001b[0m \u001b[0;32mfrom\u001b[0m \u001b[0merr\u001b[0m\u001b[0;34m\u001b[0m\u001b[0;34m\u001b[0m\u001b[0m\n\u001b[0m\u001b[1;32m   2901\u001b[0m \u001b[0;34m\u001b[0m\u001b[0m\n\u001b[1;32m   2902\u001b[0m         \u001b[0;32mif\u001b[0m \u001b[0mtolerance\u001b[0m \u001b[0;32mis\u001b[0m \u001b[0;32mnot\u001b[0m \u001b[0;32mNone\u001b[0m\u001b[0;34m:\u001b[0m\u001b[0;34m\u001b[0m\u001b[0;34m\u001b[0m\u001b[0m\n",
            "\u001b[0;31mKeyError\u001b[0m: 'Символ'"
          ]
        }
      ]
    },
    {
      "cell_type": "code",
      "metadata": {
        "id": "Pv12_oL9Bo8n"
      },
      "source": [
        "df = pd.DataFrame(df).transpose()\n",
        "df = df.drop([1456, 1457, 1458, 1459, 1460, 1461, 1462], axis=0)\n",
        "df = df.set_axis(df.loc[0], axis='columns')\n",
        "df = df.set_index('date')\n",
        "df = df.drop(index='date')\n",
        "df.to_csv('/content/drive/MyDrive/Finance machine/Den_database.csv')\n",
        "df.to_csv('/content/database/Den_database.csv')"
      ],
      "execution_count": null,
      "outputs": []
    },
    {
      "cell_type": "code",
      "metadata": {
        "id": "aX3AsL7I8SHk"
      },
      "source": [
        "df"
      ],
      "execution_count": null,
      "outputs": []
    },
    {
      "cell_type": "code",
      "metadata": {
        "id": "Qp6xLUfCIc_u"
      },
      "source": [
        "import datetime\n",
        "from datetime import date\n",
        "\n",
        "current_date = date.today()\n",
        "\n",
        "identifier = 'AAPL'\n",
        "response = intrinio.HistoricalDataApi().get_historical_data(identifier, tag, frequency=frequency, type=type, start_date=start_date, end_date=end_date, sort_order=sort_order, page_size=page_size, next_page=next_page)\n",
        "for elem in response.historical_data:\n",
        "    a = elem.date\n",
        "    print(isinstance(a, datetime.date))"
      ],
      "execution_count": null,
      "outputs": []
    },
    {
      "cell_type": "markdown",
      "metadata": {
        "id": "1ijx3yevc1BR"
      },
      "source": [
        "## Новый подход к созданию базы данных"
      ]
    },
    {
      "cell_type": "markdown",
      "metadata": {
        "id": "er_YAtKxdPPA"
      },
      "source": [
        "После тестов, было выяснено, что база данных полученная методом выше, не достаточна хороша. Поэтому было решено сделать все заново. В этот раз мы используем API tdameritrade. https://developer.tdameritrade.com\n",
        "\n",
        "Узнал я об этом API из этой статьи https://smart-lab.ru/blog/586228.php\n",
        "\n",
        "Чтобы понять код ниже достаточно посмотреть этот гайд: https://www.youtube.com/watch?v=qJ94sSyPGBw&ab_channel=SigmaCoding\n",
        "\n",
        "Далее, давайте отправим первый запрос:"
      ]
    },
    {
      "cell_type": "code",
      "metadata": {
        "id": "s5YHRbTIdBxZ"
      },
      "source": [
        "endpoint = r\"https://api.tdameritrade.com/v1/marketdata/{}/pricehistory\".format('AAPL')\n",
        "\n",
        "# определяем аргументы в запросе\n",
        "payload = {'apikey':'GLFGYLQBFI6GJ0DXCYWTW2OX9VILGOH6',\n",
        "           'periodType':'', # тип периода указывать не нежно, если указываем период в endDate и startDate\n",
        "           'frequencyType':'minute',\n",
        "           'frequency':'1440',\n",
        "           'period':'', # аналогичная причина, что и в 'periodType'\n",
        "           'endDate':'1618698582000', # дата взята в дени написания этоя ячейки\n",
        "           'startDate':'1617698582000',\n",
        "           'needExtendedHoursData':'true'}\n",
        "\n",
        "# отправяем запрос\n",
        "content = requests.get(url = endpoint, params = payload)\n",
        "\n",
        "# конвертируем в словарь\n",
        "data = content.json()"
      ],
      "execution_count": null,
      "outputs": []
    },
    {
      "cell_type": "markdown",
      "metadata": {
        "id": "awR8Euj9Zknh"
      },
      "source": [
        "Сейчас нам нужно понять как харнить полученные данные. Мы получаем данные ввиде словаря с 3 элементами. 1ый элемент – массив(list) содержащий информацию о свечке. 2ой элемент - строчка, тикет компании. 3ий - bool, обозначает пустой ли запрос."
      ]
    },
    {
      "cell_type": "code",
      "metadata": {
        "id": "org8QdCkrXNc"
      },
      "source": [
        "data['candles'][7338]"
      ],
      "execution_count": null,
      "outputs": []
    },
    {
      "cell_type": "code",
      "metadata": {
        "id": "PrjYXk46-Y6m"
      },
      "source": [
        "data['symbol']"
      ],
      "execution_count": null,
      "outputs": []
    },
    {
      "cell_type": "code",
      "metadata": {
        "id": "Mj8rAanWbH-G"
      },
      "source": [
        "data['empty']"
      ],
      "execution_count": null,
      "outputs": []
    },
    {
      "cell_type": "markdown",
      "metadata": {
        "id": "BnIFYIuscBSy"
      },
      "source": [
        "Тикет - определяет компанию, это признак, который можно использовать как категориальный, но основная его ценность в резделении данных.\n",
        "\n",
        "Далее рассмотрим данные свечки:\n",
        "\n",
        "close - цена закрытия, то что мы хотим предсказывать\n",
        "\n",
        "high - самая высокая цена за период свечки, может быть полезна, особенно если период свечки достаточно большой.\n",
        "\n",
        "low - самая низкая цена за период свечки, может быть полезна, особенно если период свечки достаточно большой.\n",
        "\n",
        "open - цена закрытия, то что мы хотим предсказывать, она должна почти совпадает с ценой закрытия предидущей свечки. Это мы сейчас и проверим:"
      ]
    },
    {
      "cell_type": "code",
      "metadata": {
        "id": "yJdPRrH0g9qs"
      },
      "source": [
        "loss = 0\n",
        "for i in range(len(data['candles']) - 1):\n",
        "    loss += abs(data['candles'][i]['close'] - data['candles'][i + 1]['open'])\n",
        "print(loss)"
      ],
      "execution_count": null,
      "outputs": []
    },
    {
      "cell_type": "markdown",
      "metadata": {
        "id": "TPNuG1uDi0fl"
      },
      "source": [
        "За двухдневний период разница оказалось давольно большой.\n",
        "\n",
        "Давайте проверим две случайные соседние свечки:"
      ]
    },
    {
      "cell_type": "code",
      "metadata": {
        "id": "FzaEYaQnjGuN"
      },
      "source": [
        "print(data['candles'][100]['close'])\n",
        "print(data['candles'][101]['open'])"
      ],
      "execution_count": null,
      "outputs": []
    },
    {
      "cell_type": "markdown",
      "metadata": {
        "id": "M6GQHQ3Xlqb_"
      },
      "source": [
        "Видимо, дело в том, что последняя сделка в один период времени, не является первой во второй период, теперь давайте посмотрим на результат, без модуля:"
      ]
    },
    {
      "cell_type": "code",
      "metadata": {
        "id": "-ATSA_mTmr1N"
      },
      "source": [
        "loss = 0\n",
        "for i in range(len(data['candles']) - 1):\n",
        "    loss += data['candles'][i]['close'] - data['candles'][i + 1]['open']\n",
        "print(loss)"
      ],
      "execution_count": null,
      "outputs": []
    },
    {
      "cell_type": "markdown",
      "metadata": {
        "id": "8Yu_JlPnmvJU"
      },
      "source": [
        "Как видно разница не очень большая. Храния оба эти признака мы просто будем хранить данные о двух соседних сделках, думаю лучше хранить информацию в среднем о периоде. Или только один из этих признаков. Но для начала, не будем задумываться об оптимизации, и сохраним оба."
      ]
    },
    {
      "cell_type": "markdown",
      "metadata": {
        "id": "h-9-pQzug-AX"
      },
      "source": [
        "volume - объем сделок в этот период, один из ключевых факторов.\n",
        "\n",
        "datetime - время в Epoch ситстеме в милисекундах, важны признак, которы мы хотим хранить.\n",
        "\n",
        "Теперь когда мы знаем, с чем имеем дело, давайте подумаем в каком виде мы хотим хранить наши данные. Для начала, нам подойдет простая таблица."
      ]
    },
    {
      "cell_type": "code",
      "metadata": {
        "id": "2K-HPuleJtkK"
      },
      "source": [
        "df = pd.DataFrame(data['candles'])\n",
        "df = pd.concat([df, pd.DataFrame(data)], axis = 1)\n",
        "df = df.drop(columns='candles')"
      ],
      "execution_count": null,
      "outputs": []
    },
    {
      "cell_type": "code",
      "metadata": {
        "id": "sQl2jzQrUrCg"
      },
      "source": [
        "# получаем список тикеров компаний, входящий в snp 500\n",
        "idfidentifier_list = pd.read_excel('/content/drive/MyDrive/Finance machine/Компании S&P 500 Index.xlsx')"
      ],
      "execution_count": null,
      "outputs": []
    },
    {
      "cell_type": "code",
      "metadata": {
        "id": "fNofWL2SW_Mz"
      },
      "source": [
        "# Собираем информацию о весх интересующих нас компаниях\n",
        "\n",
        "# создаем нашу будующую базу данных\n",
        "\n",
        "payload = {'apikey':'GLFGYLQBFI6GJ0DXCYWTW2OX9VILGOH6',\n",
        "           'periodType':'', # тип периода указывать не нежно, если указываем период в endDate и startDate\n",
        "           'frequencyType':'minute',\n",
        "           'frequency':'30',\n",
        "           'period':'', # аналогичная причина, что и в 'periodType'\n",
        "           'endDate':'1618698582000', # дата взята в дени написания этоя ячейки\n",
        "           'startDate':'1617698582000',\n",
        "           'needExtendedHoursData':'true'}\n",
        "\n",
        "counter = 0\n",
        "for i in idfidentifier_list['Символ']:\n",
        "    endpoint = r\"https://api.tdameritrade.com/v1/marketdata/{}/pricehistory\".format(i)\n",
        "    content = requests.get(url = endpoint, params = payload)\n",
        "    data = content.json()\n",
        "    df_temp = pd.DataFrame(data['candles'])\n",
        "    df_temp = pd.concat([df_temp, pd.DataFrame(data)], axis = 1)\n",
        "    df_temp = df_temp.drop(columns='candles')\n",
        "    df = pd.concat([df, df_temp])\n",
        "    counter += 1\n",
        "    if counter == 120: # ограничение в 120 запросов в минуту установлено используемым API\n",
        "        time.sleep(60)\n",
        "        counter = 0"
      ],
      "execution_count": null,
      "outputs": []
    },
    {
      "cell_type": "code",
      "metadata": {
        "id": "EsWXqEGlUVA4"
      },
      "source": [
        "df.to_csv('/content/drive/MyDrive/Finance machine/Den_database.csv', index=False)"
      ],
      "execution_count": null,
      "outputs": []
    },
    {
      "cell_type": "markdown",
      "metadata": {
        "id": "eiwCRRwRY-xw"
      },
      "source": [
        "## База данных за последние 9 месяцев с периодом 15 минут"
      ]
    },
    {
      "cell_type": "code",
      "metadata": {
        "id": "VsasRb0IY-x3"
      },
      "source": [
        "# получаем список тикеров компаний, входящий в snp 500\n",
        "idfidentifier_list = pd.read_excel('/content/drive/MyDrive/Finance machine/Компании S&P 500 Index.xlsx')"
      ],
      "execution_count": null,
      "outputs": []
    },
    {
      "cell_type": "code",
      "metadata": {
        "id": "L17TLCiMY-x3"
      },
      "source": [
        "# Собираем информацию о весх интересующих нас компаниях\n",
        "\n",
        "# создаем нашу будующую базу данных\n",
        "\n",
        "df = pd.DataFrame()\n",
        "\n",
        "payload = {'apikey':'GLFGYLQBFI6GJ0DXCYWTW2OX9VILGOH6',\n",
        "           'periodType':'', # тип периода указывать не нужно, если указываем период в endDate и startDate\n",
        "           'frequencyType':'minute',\n",
        "           'frequency':'15',\n",
        "           'period':'', # аналогичная причина, что и в 'periodType'\n",
        "           'endDate':'1619827200000', # 1 мая 2021\n",
        "           'startDate':'1598918400000', # 1 сентября 2020\n",
        "           'needExtendedHoursData':'true'}\n",
        "\n",
        "counter = 0\n",
        "for i in idfidentifier_list['Symbol']:\n",
        "    endpoint = r\"https://api.tdameritrade.com/v1/marketdata/{}/pricehistory\".format(i)\n",
        "    content = requests.get(url = endpoint, params = payload)\n",
        "    data = content.json()\n",
        "    df_temp = pd.DataFrame(data['candles'])\n",
        "    df_temp = pd.concat([df_temp, pd.DataFrame(data)], axis = 1)\n",
        "    df_temp = df_temp.drop(columns='candles')\n",
        "    df = pd.concat([df, df_temp])\n",
        "    counter += 1\n",
        "    print(i)\n",
        "    if counter == 120: # ограничение в 120 запросов в минуту установлено используемым API\n",
        "        time.sleep(60)\n",
        "        counter = 0"
      ],
      "execution_count": null,
      "outputs": []
    },
    {
      "cell_type": "code",
      "metadata": {
        "id": "ky5XDE_rY-x4"
      },
      "source": [
        "df.datetime = df.datetime // 1000\n",
        "df.to_csv('/content/drive/MyDrive/Finance machine/9month_15min.csv', index=False)"
      ],
      "execution_count": null,
      "outputs": []
    },
    {
      "cell_type": "code",
      "metadata": {
        "id": "9FcDtTqKf3bg"
      },
      "source": [
        "df = pd.read_csv('/content/drive/MyDrive/Finance machine/9month_15min.csv')"
      ],
      "execution_count": null,
      "outputs": []
    },
    {
      "cell_type": "code",
      "metadata": {
        "id": "QdGEe07_ZuIJ"
      },
      "source": [
        "df"
      ],
      "execution_count": null,
      "outputs": []
    },
    {
      "cell_type": "markdown",
      "metadata": {
        "id": "43m_Ko0JhJlF"
      },
      "source": [
        "## База данных за последние 5 лет с периодом 1 день\n",
        "\n",
        "---\n",
        "\n"
      ]
    },
    {
      "cell_type": "code",
      "metadata": {
        "id": "nqiT7AT2hJlU"
      },
      "source": [
        "# получаем список тикеров компаний, входящий в snp 500\n",
        "idfidentifier_list = pd.read_excel('/content/drive/MyDrive/Finance machine/Компании S&P 500 Index.xlsx')"
      ],
      "execution_count": null,
      "outputs": []
    },
    {
      "cell_type": "code",
      "metadata": {
        "id": "Iv7MCSWjhJlU"
      },
      "source": [
        "# Собираем информацию о весх интересующих нас компаниях\n",
        "\n",
        "# создаем нашу будующую базу данных\n",
        "\n",
        "df = pd.DataFrame()\n",
        "\n",
        "payload = {'apikey':'GLFGYLQBFI6GJ0DXCYWTW2OX9VILGOH6',\n",
        "           'periodType':'year', # тип периода указывать не нужно, если указываем период в endDate и startDate\n",
        "           'frequencyType':'daily',\n",
        "           'frequency':'1',\n",
        "           'period':'1', # аналогичная причина, что и в 'periodType'\n",
        "           'endDate':'1619827200000', # 1 мая 2021\n",
        "           'startDate':'1462060800000', # 1 мая 2016\n",
        "           'needExtendedHoursData':'true'}\n",
        "\n",
        "counter = 0\n",
        "for i in idfidentifier_list['Symbol']:\n",
        "    endpoint = r\"https://api.tdameritrade.com/v1/marketdata/{}/pricehistory\".format(i)\n",
        "    content = requests.get(url = endpoint, params = payload)\n",
        "    data = content.json()\n",
        "    df_temp = pd.DataFrame(data['candles'])\n",
        "    df_temp = pd.concat([df_temp, pd.DataFrame(data)], axis = 1)\n",
        "    df_temp = df_temp.drop(columns='candles')\n",
        "    df = pd.concat([df, df_temp])\n",
        "    counter += 1\n",
        "    print(i)\n",
        "    if counter == 120: # ограничение в 120 запросов в минуту установлено используемым API\n",
        "        time.sleep(60)\n",
        "        counter = 0"
      ],
      "execution_count": null,
      "outputs": []
    },
    {
      "cell_type": "code",
      "metadata": {
        "id": "cPoAPsqyhJlW"
      },
      "source": [
        "df.datetime = df.datetime // 1000\n",
        "df.to_csv('/content/drive/MyDrive/Finance machine/5year_1day.csv', index=False)"
      ],
      "execution_count": null,
      "outputs": []
    },
    {
      "cell_type": "code",
      "metadata": {
        "id": "-Eck472dhJlZ"
      },
      "source": [
        "df = pd.read_csv('/content/drive/MyDrive/Finance machine/5year_1day.csv')"
      ],
      "execution_count": null,
      "outputs": []
    },
    {
      "cell_type": "code",
      "metadata": {
        "id": "cFn5K5FrhJlZ"
      },
      "source": [
        "df"
      ],
      "execution_count": null,
      "outputs": []
    },
    {
      "cell_type": "markdown",
      "metadata": {
        "id": "rdqjbwn0WyQB"
      },
      "source": [
        "# Реализация MLP"
      ]
    },
    {
      "cell_type": "markdown",
      "metadata": {
        "id": "yC6rbqyFETlN"
      },
      "source": [
        "**MLP**\n",
        "\n",
        "Многослойный персептрон (MLP) - это класс прямой искусственной нейронной сети.\n",
        "\n",
        "MLP состоит по крайней мере из трех слоев узлов: входного слоя, скрытого слоя и выходного слоя. За исключением входных узлов, каждый узел представляет собой нейрон, который использует нелинейную функцию активации. MLP использует метод контролируемого обучения под названием backpropagation для обучения. Его множественные слои и нелинейная активация отличают MLP от линейного персептрона. Он может различать данные, которые не являются линейно разделимыми."
      ]
    },
    {
      "cell_type": "markdown",
      "metadata": {
        "id": "Ypb2bu5DEwvU"
      },
      "source": [
        "## Подготовка данных\n",
        "\n",
        "**и как MLP будет выглядеть у нас**"
      ]
    },
    {
      "cell_type": "code",
      "metadata": {
        "id": "afqA3mTqW2N7"
      },
      "source": [
        "df = pd.read_csv('/content/drive/MyDrive/Finance machine/9month_15min.csv')\n",
        "idfidentifier_list = pd.read_excel('/content/drive/MyDrive/Finance machine/Компании S&P 500 Index.xlsx')\n",
        "# df = pd.read_csv('/content/drive/MyDrive/Finance machine/5year_1day.csv')"
      ],
      "execution_count": null,
      "outputs": []
    },
    {
      "cell_type": "code",
      "metadata": {
        "id": "xThXulxOv_Tu",
        "colab": {
          "base_uri": "https://localhost:8080/"
        },
        "outputId": "a811ba5f-0af7-4f7d-fa19-d9ced0dfecdb"
      },
      "source": [
        "!pip install mplfinance\n",
        "import mplfinance as mpf\n",
        "import numpy as np"
      ],
      "execution_count": null,
      "outputs": [
        {
          "output_type": "stream",
          "text": [
            "Collecting mplfinance\n",
            "\u001b[?25l  Downloading https://files.pythonhosted.org/packages/3f/4e/a3de915df8d112579beb3df22e47b3929670b10e9c5dfd4a2b31bf1a34a7/mplfinance-0.12.7a17-py3-none-any.whl (62kB)\n",
            "\r\u001b[K     |█████▎                          | 10kB 20.5MB/s eta 0:00:01\r\u001b[K     |██████████▌                     | 20kB 24.9MB/s eta 0:00:01\r\u001b[K     |███████████████▊                | 30kB 26.9MB/s eta 0:00:01\r\u001b[K     |█████████████████████           | 40kB 28.4MB/s eta 0:00:01\r\u001b[K     |██████████████████████████▎     | 51kB 30.2MB/s eta 0:00:01\r\u001b[K     |███████████████████████████████▌| 61kB 31.7MB/s eta 0:00:01\r\u001b[K     |████████████████████████████████| 71kB 9.4MB/s \n",
            "\u001b[?25hRequirement already satisfied: matplotlib in /usr/local/lib/python3.7/dist-packages (from mplfinance) (3.2.2)\n",
            "Requirement already satisfied: pandas in /usr/local/lib/python3.7/dist-packages (from mplfinance) (1.1.5)\n",
            "Requirement already satisfied: cycler>=0.10 in /usr/local/lib/python3.7/dist-packages (from matplotlib->mplfinance) (0.10.0)\n",
            "Requirement already satisfied: pyparsing!=2.0.4,!=2.1.2,!=2.1.6,>=2.0.1 in /usr/local/lib/python3.7/dist-packages (from matplotlib->mplfinance) (2.4.7)\n",
            "Requirement already satisfied: python-dateutil>=2.1 in /usr/local/lib/python3.7/dist-packages (from matplotlib->mplfinance) (2.8.1)\n",
            "Requirement already satisfied: kiwisolver>=1.0.1 in /usr/local/lib/python3.7/dist-packages (from matplotlib->mplfinance) (1.3.1)\n",
            "Requirement already satisfied: numpy>=1.11 in /usr/local/lib/python3.7/dist-packages (from matplotlib->mplfinance) (1.19.5)\n",
            "Requirement already satisfied: pytz>=2017.2 in /usr/local/lib/python3.7/dist-packages (from pandas->mplfinance) (2018.9)\n",
            "Requirement already satisfied: six in /usr/local/lib/python3.7/dist-packages (from cycler>=0.10->matplotlib->mplfinance) (1.15.0)\n",
            "Installing collected packages: mplfinance\n",
            "Successfully installed mplfinance-0.12.7a17\n"
          ],
          "name": "stdout"
        }
      ]
    },
    {
      "cell_type": "code",
      "metadata": {
        "id": "cA0yBqwhxE9P"
      },
      "source": [
        "df.datetime = pd.to_datetime(df[\"datetime\"], unit = 's')"
      ],
      "execution_count": null,
      "outputs": []
    },
    {
      "cell_type": "code",
      "metadata": {
        "id": "Dnb_vTy0_SrU"
      },
      "source": [
        "rslt_df = df.set_index(df.datetime)\n",
        "rslt_df = rslt_df.drop(columns='datetime')\n",
        "rslt_df = rslt_df[rslt_df['symbol'] == \"MMM\"]"
      ],
      "execution_count": null,
      "outputs": []
    },
    {
      "cell_type": "code",
      "metadata": {
        "id": "js1ldw6y_4Id",
        "colab": {
          "base_uri": "https://localhost:8080/"
        },
        "outputId": "c4ee8c50-f196-4420-f31b-d0cfb4017340"
      },
      "source": [
        "mpf.plot(rslt_df)"
      ],
      "execution_count": null,
      "outputs": [
        {
          "output_type": "stream",
          "text": [
            "/usr/local/lib/python3.7/dist-packages/mplfinance/_arg_validators.py:45: UserWarning: \n",
            "\n",
            " ================================================================= \n",
            "\n",
            "   WARNING: YOU ARE PLOTTING SO MUCH DATA THAT IT MAY NOT BE\n",
            "            POSSIBLE TO SEE DETAILS (Candles, Ohlc-Bars, Etc.)\n",
            "   For more information see:\n",
            "   - https://github.com/matplotlib/mplfinance/wiki/Plotting-Too-Much-Data\n",
            "   \n",
            "   TO SILENCE THIS WARNING, set `type='line'` in `mpf.plot()`\n",
            "   OR set kwarg `warn_too_much_data=N` where N is an integer \n",
            "   LARGER than the number of data points you want to plot.\n",
            "\n",
            " ================================================================ \n",
            "  category=UserWarning)\n"
          ],
          "name": "stderr"
        },
        {
          "output_type": "display_data",
          "data": {
            "image/png": "[encoded data removed]",
            "text/plain": [
              "<Figure size 800x575 with 2 Axes>"
            ]
          },
          "metadata": {
            "tags": []
          }
        }
      ]
    },
    {
      "cell_type": "code",
      "metadata": {
        "id": "Hd0e8wAuCaRZ",
        "colab": {
          "base_uri": "https://localhost:8080/"
        },
        "outputId": "5802d8e7-14c7-4e17-cdf4-f42dbc9853c6"
      },
      "source": [
        "mpf.plot(rslt_df['2021-4-28':'2021-5'], # за последние 3 дня\n",
        "         type='candle',\n",
        "         volume=True,\n",
        "         style=\"yahoo\",\n",
        "         tight_layout=True)"
      ],
      "execution_count": null,
      "outputs": [
        {
          "output_type": "display_data",
          "data": {
            "image/png": "[encoded data removed]",
            "text/plain": [
              "<Figure size 800x575 with 4 Axes>"
            ]
          },
          "metadata": {
            "tags": []
          }
        }
      ]
    },
    {
      "cell_type": "markdown",
      "metadata": {
        "id": "vuK1lIL4F47y"
      },
      "source": [
        "Чтобы обучить mlp, нам нужно придумать какие параметры она будет получать и что она будет предсказывать. Моя первая идея: в качестве параметров она будет получать все данные за последний день с интервалом 15 минут, от 1 дня до недели с инервалом час, и от недели до 3 месяцев интервалом в день. А предсказывать будем стоимость через 1 день.\n",
        "\n",
        "Для этого давайте выберем 100 раз случайное время, из промежутка [1 декабря - 29 апреля] для каждого тикета. Также при выборе времени убедимся, что она находится в промежутке торгов акциями. Это можно определить по объему. Таким образов у нас получится выборка из 50 500 объектов."
      ]
    },
    {
      "cell_type": "markdown",
      "metadata": {
        "id": "Uw86EZA8EDP8"
      },
      "source": [
        "для начала проверим что для всех тикетов у нас есть данные по каждому промежутку:"
      ]
    },
    {
      "cell_type": "code",
      "metadata": {
        "id": "MxB5UTDQ9xDR"
      },
      "source": [
        "rslt_df = df.set_index(df.datetime)\n",
        "rslt_df = rslt_df.drop(columns='datetime')\n",
        "\n",
        "new_df = rslt_df.loc['2020-12-1':'2021-4-29']\n",
        "b = new_df[new_df['symbol'] == \"MMM\"].shape[0]\n",
        "for ticket in idfidentifier_list['Symbol']:\n",
        "    new_df = df[df['symbol'] == ticket]\n",
        "    a = new_df.shape[0]\n",
        "    if a != b:\n",
        "        print(a)\n",
        "        break\n",
        "    b = a"
      ],
      "execution_count": null,
      "outputs": []
    },
    {
      "cell_type": "markdown",
      "metadata": {
        "id": "aVRb0Sc-GW8_"
      },
      "source": [
        "Это не так для 15 минутной базы данных, утверждение можно подтвердить, просто посмотря на количество данных по каждому тикету"
      ]
    },
    {
      "cell_type": "code",
      "metadata": {
        "id": "l_bMj1zPF6Ux"
      },
      "source": [
        "i = 0\n",
        "for ticket in idfidentifier_list['Symbol']:\n",
        "    if i == 10:\n",
        "        break\n",
        "    print(df[df['symbol'] == ticket].shape[0])\n",
        "    i+= 1"
      ],
      "execution_count": null,
      "outputs": []
    },
    {
      "cell_type": "code",
      "metadata": {
        "id": "322-XC5FKA7v"
      },
      "source": [
        "# тут я тестил, то что мне пригодится далее\n",
        "# тут я получаю индекс первого элемента принадлежащего \"2020-12-1\" для всех тикетов\n",
        "a = df.index[df['datetime']  >= \"2020-12-1\"]\n",
        "b = []\n",
        "for ticket in idfidentifier_list['Symbol']:\n",
        "    temp = df.index[df['symbol']  == ticket]\n",
        "    b.append(temp.intersection(a)[0])"
      ],
      "execution_count": null,
      "outputs": []
    },
    {
      "cell_type": "code",
      "metadata": {
        "id": "HVVicAKGnd17"
      },
      "source": [
        "# проверка\n",
        "print(len(b))\n",
        "for i in range(5):\n",
        "    print(df.loc[b[i], 'datetime'])"
      ],
      "execution_count": null,
      "outputs": []
    },
    {
      "cell_type": "code",
      "metadata": {
        "id": "cvkgMMMogHKo"
      },
      "source": [
        "df.head()"
      ],
      "execution_count": null,
      "outputs": []
    },
    {
      "cell_type": "markdown",
      "metadata": {
        "id": "2osiv9hGjF3T"
      },
      "source": [
        "Для начала сделаем парсинг данных таким образом: прошлый день по 15 минут и последний элемент. это стоимость при открытии на следующий день"
      ]
    },
    {
      "cell_type": "code",
      "metadata": {
        "id": "b-Z_rPw-Iw6D"
      },
      "source": [
        "# получение выборки (парсинг)\n",
        "\n",
        "counter = 0\n",
        "selection = list(range(486))\n",
        "selection = pd.DataFrame(columns=selection)\n",
        "for ticket in idfidentifier_list['Symbol']:\n",
        "    a = 0\n",
        "    new_df = df[df['symbol'] == ticket]\n",
        "    for i in range(100):\n",
        "        if a == 0:\n",
        "            a = new_df[new_df['datetime']  >= \"2020-12-1\"].shape[0]\n",
        "        chosen_idx = np.random.choice(a) # выберает случайный индекс из индексов элементов принадлежащих промежутку [1 декабря - 29 апреля]\n",
        "        elem = df.iloc[b[counter] + chosen_idx, 0:5].to_list() # выбранный элемент   \n",
        "        for j in range(24*4):\n",
        "            elem = elem + df.iloc[b[counter] + chosen_idx - j - 1, 0:5].to_list() # добавляем историческая информация за последний день\n",
        "        elem.append(df.iloc[b[counter] + chosen_idx + 24*4, 0]) # добавляем стоимость тикета через день\n",
        "        selection.loc[selection.shape[0]] = elem\n",
        "    print(str(counter + 1) + \" из 505\")\n",
        "    counter += 1\n",
        "\n",
        "selection"
      ],
      "execution_count": null,
      "outputs": []
    },
    {
      "cell_type": "code",
      "metadata": {
        "id": "RNdkZkXqp22Y"
      },
      "source": [
        "selection.to_csv('/content/drive/MyDrive/Finance machine/MLP_selection.csv', index=False)"
      ],
      "execution_count": null,
      "outputs": []
    },
    {
      "cell_type": "code",
      "metadata": {
        "id": "UJjWxoS4RaEc"
      },
      "source": [
        "selection = pd.read_csv('/content/drive/MyDrive/Finance machine/MLP_selection.csv')"
      ],
      "execution_count": null,
      "outputs": []
    },
    {
      "cell_type": "code",
      "metadata": {
        "id": "LnDoIse83d4O"
      },
      "source": [
        "selection"
      ],
      "execution_count": null,
      "outputs": []
    },
    {
      "cell_type": "markdown",
      "metadata": {
        "id": "TBMr61jPE9nR"
      },
      "source": [
        "## Реализация MLP\n",
        "\n",
        "Для удобства я выбрал писать млп использую библиотке tensorflow. Она специально написана работы в гугл колаб."
      ]
    },
    {
      "cell_type": "code",
      "metadata": {
        "id": "Dzxva_sLPHbQ",
        "colab": {
          "base_uri": "https://localhost:8080/"
        },
        "outputId": "b6d06d47-b153-485f-cbf5-a3bce11d10d9"
      },
      "source": [
        "%tensorflow_version 2.x\n",
        "import tensorflow as tf\n",
        "from tensorflow import keras\n",
        "print(tf.version)\n",
        "\n",
        "#with tf.compat.v1.Session() as sess: # seess – nимя твоей сессии, создает сессию используя дефолтный граф\n",
        "#    tensor.elav() # tensor – имя твоего тензора\n",
        "\n",
        "import numpy as np\n",
        "import matplotlib.pyplot as plt\n",
        "#!pip install -q sklearn"
      ],
      "execution_count": null,
      "outputs": [
        {
          "output_type": "stream",
          "text": [
            "<module 'tensorflow._api.v2.version' from '/usr/local/lib/python3.7/dist-packages/tensorflow/_api/v2/version/__init__.py'>\n"
          ],
          "name": "stdout"
        }
      ]
    },
    {
      "cell_type": "code",
      "metadata": {
        "id": "VEikr2ow5Lqo"
      },
      "source": [
        "# задача классификации\n",
        "selection = pd.read_csv('/content/drive/MyDrive/Finance machine/MLP_selection.csv')\n",
        "#display(selection.head(3))\n",
        "selection['485'] = selection['485'] - selection['0']\n",
        "#display(selection.head(3))\n",
        "selection['485'] = np.sign(selection['485'])\n",
        "#selection.head(3)"
      ],
      "execution_count": null,
      "outputs": []
    },
    {
      "cell_type": "code",
      "metadata": {
        "colab": {
          "base_uri": "https://localhost:8080/"
        },
        "id": "J3dirm_yDhE7",
        "outputId": "da25228b-20b9-434b-ad2d-c0fd216e8474"
      },
      "source": [
        "selection.isnull().sum()"
      ],
      "execution_count": null,
      "outputs": [
        {
          "output_type": "execute_result",
          "data": {
            "text/plain": [
              "0      0\n",
              "1      0\n",
              "2      0\n",
              "3      0\n",
              "4      0\n",
              "      ..\n",
              "481    0\n",
              "482    0\n",
              "483    0\n",
              "484    0\n",
              "485    0\n",
              "Length: 486, dtype: int64"
            ]
          },
          "metadata": {
            "tags": []
          },
          "execution_count": 16
        }
      ]
    },
    {
      "cell_type": "code",
      "metadata": {
        "colab": {
          "base_uri": "https://localhost:8080/"
        },
        "id": "FS7_vpAq4Cju",
        "outputId": "8092218b-8fa3-45f4-f3d9-7ec5c151a8e5"
      },
      "source": [
        "# разделяем данные на обучающие и на тестирующие\n",
        "x_train = selection.loc[0:int(selection.shape[0]*2/3)]\n",
        "x_test = selection.loc[int(selection.shape[0]*2/3 + 1):]\n",
        "print(x_train.shape[0])\n",
        "print(x_test.shape[0])\n",
        "print(selection.shape[0])\n",
        "print(x_train.shape[0] + x_test.shape[0])"
      ],
      "execution_count": null,
      "outputs": [
        {
          "output_type": "stream",
          "text": [
            "33623\n",
            "16811\n",
            "50434\n",
            "50434\n"
          ],
          "name": "stdout"
        }
      ]
    },
    {
      "cell_type": "code",
      "metadata": {
        "id": "S1rbCAwE5tUs"
      },
      "source": [
        "# разделяем данные на признаки и значения\n",
        "class_names = [\"will grow\", \"will fall\"]\n",
        "\n",
        "y_train = x_train[\"485\"]\n",
        "x_train = x_train.drop(columns=\"485\")\n",
        "y_test = x_test[\"485\"]\n",
        "x_test = x_test.drop(columns=\"485\")"
      ],
      "execution_count": null,
      "outputs": []
    },
    {
      "cell_type": "code",
      "metadata": {
        "id": "Jxyty8rkxz0L"
      },
      "source": [
        "model = keras.Sequential([\n",
        "    keras.layers.Dense(128, activation='relu'),\n",
        "    keras.layers.Dense(64, activation='relu'),\n",
        "    keras.layers.Dense(2, activation='softmax')\n",
        "])\n",
        "\n",
        "model.compile(optimizer='adam',\n",
        "              loss='sparse_categorical_crossentropy',\n",
        "              metrics=['accuracy'])"
      ],
      "execution_count": null,
      "outputs": []
    },
    {
      "cell_type": "code",
      "metadata": {
        "colab": {
          "base_uri": "https://localhost:8080/"
        },
        "id": "PJAyK-M21EdH",
        "outputId": "87d18b99-fc24-490e-bb06-3a98fe105666"
      },
      "source": [
        "model.fit(x_train, y_train, epochs=10)"
      ],
      "execution_count": null,
      "outputs": [
        {
          "output_type": "stream",
          "text": [
            "Epoch 1/10\n",
            "1051/1051 [==============================] - 2s 2ms/step - loss: nan - accuracy: 0.0013\n",
            "Epoch 2/10\n",
            "1051/1051 [==============================] - 2s 2ms/step - loss: nan - accuracy: 0.0013\n",
            "Epoch 3/10\n",
            "1051/1051 [==============================] - 2s 2ms/step - loss: nan - accuracy: 0.0013\n",
            "Epoch 4/10\n",
            "1051/1051 [==============================] - 2s 2ms/step - loss: nan - accuracy: 0.0013\n",
            "Epoch 5/10\n",
            "1051/1051 [==============================] - 2s 2ms/step - loss: nan - accuracy: 0.0013\n",
            "Epoch 6/10\n",
            "1051/1051 [==============================] - 2s 2ms/step - loss: nan - accuracy: 0.0013\n",
            "Epoch 7/10\n",
            "1051/1051 [==============================] - 2s 2ms/step - loss: nan - accuracy: 0.0013\n",
            "Epoch 8/10\n",
            "1051/1051 [==============================] - 2s 2ms/step - loss: nan - accuracy: 0.0013\n",
            "Epoch 9/10\n",
            "1051/1051 [==============================] - 2s 2ms/step - loss: nan - accuracy: 0.0013\n",
            "Epoch 10/10\n",
            "1051/1051 [==============================] - 2s 2ms/step - loss: nan - accuracy: 0.0013\n"
          ],
          "name": "stdout"
        },
        {
          "output_type": "execute_result",
          "data": {
            "text/plain": [
              "<tensorflow.python.keras.callbacks.History at 0x7fd08257e590>"
            ]
          },
          "metadata": {
            "tags": []
          },
          "execution_count": 18
        }
      ]
    },
    {
      "cell_type": "code",
      "metadata": {
        "colab": {
          "base_uri": "https://localhost:8080/"
        },
        "id": "E-0iHwyZ8eYr",
        "outputId": "6f42b132-c705-4b81-93f3-685ffcc5a2d5"
      },
      "source": [
        "test_loss, test_acc = model.evaluate(x_test, y_test, verbose=1)\n",
        "\n",
        "print(\"Test accuracy\", test_acc)"
      ],
      "execution_count": null,
      "outputs": [
        {
          "output_type": "stream",
          "text": [
            "526/526 [==============================] - 1s 2ms/step - loss: nan - accuracy: 0.0018\n",
            "Test accuracy 0.0018440306885167956\n"
          ],
          "name": "stdout"
        }
      ]
    },
    {
      "cell_type": "code",
      "metadata": {
        "id": "I4Xg-yAPddFd"
      },
      "source": [
        "# Чтобы не нагружать ram память, так как наш датасет слишком большой, мы будем подавать данные в виде бача\n",
        "\n",
        "# создание imput_function\n",
        "def make_input_fn(data_df, label_df, num_epochs=10, shuffle=True, batch_size=32): # shuffle = True по умолчанию\n",
        "    def input_function():\n",
        "        df = tf.data.Dataset.from_tensor_slices((dict(data_df), label_df)) # creates tf.data.Dataset object with data and its label\n",
        "        if shuffle:\n",
        "            ds = ds.shuffle(1000) # случайный порядок данных\n",
        "        ds = ds.batch(batch_size).repeat(num_epochs) # разделяет датасет на батчи размером 32 и повторяет это столько раз сколько у нас эпох\n",
        "        return ds # возращает батч из датасета\n",
        "    return input_function # возращает объект-функцию\n",
        "\n",
        "train_input_fn = make_input_fn(x_train, y_train)\n",
        "evel_input_fn = make_input_fn(x_test, y_test, num_epochs=1, shuffle=False)"
      ],
      "execution_count": null,
      "outputs": []
    },
    {
      "cell_type": "markdown",
      "metadata": {
        "id": "w1QNjKc-E_0q"
      },
      "source": [
        "Обучения MLP"
      ]
    },
    {
      "cell_type": "markdown",
      "metadata": {
        "id": "K-bgfroDFEEU"
      },
      "source": [
        "*Результат*"
      ]
    },
    {
      "cell_type": "markdown",
      "metadata": {
        "id": "2Zj1RHAcZ3ej"
      },
      "source": [
        "# Реализация LSTM"
      ]
    },
    {
      "cell_type": "code",
      "metadata": {
        "id": "JMq3vyYsNRtJ"
      },
      "source": [
        "import os\n",
        "import numpy as np\n",
        "import matplotlib.pyplot as plt\n",
        "import tensorflow as tf\n",
        "from tqdm import tqdm_notebook\n",
        "from tensorflow.keras.models import Sequential\n",
        "from tensorflow.keras.layers import LSTM\n",
        "from tensorflow.keras.layers import Dropout, Dense, Flatten\n",
        "from tensorflow.keras.callbacks import CSVLogger\n",
        "from sklearn.preprocessing import MinMaxScaler\n",
        "from sklearn.model_selection import train_test_split"
      ],
      "execution_count": null,
      "outputs": []
    },
    {
      "cell_type": "markdown",
      "metadata": {
        "id": "8XjQlFpO4og0"
      },
      "source": [
        "LSTM - особая разновидность архитектуры рекуррентных нейронных сетей, способная к обучению долговременным зависимостям. Например, когда простая реккурентная нейросеть считывает что-то из данных, она выводит эту информацию на каждом временном шаге и постепенно забывает ее каждый раз. В LSTM может переносить информацию гораздо дольше и выводить ее только в определнные временные шаги. LSTM имеет множество преимуществ по сравнению с простой реккурентной нейронной сетью. LSTM-сеть хорошо приспособлена к обучению на задачах классификации, обработки и прогнозирования временных рядов"
      ]
    },
    {
      "cell_type": "code",
      "metadata": {
        "id": "FAG7cWaoZ3ek"
      },
      "source": [
        "df_2 = pd.read_csv('/content/drive/MyDrive/Finance machine/9month_15min.csv')"
      ],
      "execution_count": null,
      "outputs": []
    },
    {
      "cell_type": "markdown",
      "metadata": {
        "id": "1usE2zoVw3BO"
      },
      "source": [
        "Нормализация данных.\n",
        "\n",
        "1) Разбиваем данные на тестовые и тренировочные.\n",
        "\n",
        "2) Нормализация входных данных с помощью MinMaxScaler(). По умолчанию будем масштабировать значения в диапазоне 0 и 1 \n",
        "\n",
        "3) Преобразуем DataFrame в ndaray"
      ]
    },
    {
      "cell_type": "code",
      "metadata": {
        "id": "AyAezJDLfho2"
      },
      "source": [
        "df_1 = pd.read_csv('/content/drive/MyDrive/Finance machine/5year_1day.csv')"
      ],
      "execution_count": null,
      "outputs": []
    },
    {
      "cell_type": "code",
      "metadata": {
        "id": "bn6P0lpB7gfu"
      },
      "source": [
        "TIME_STEPS = 30\n",
        "def build_timeseries(mat, y_col_index):\n",
        "    # y_col_index is the index of column that would act as output column\n",
        "    # total number of time-series samples would be len(mat) - TIME_STEPS\n",
        "    dim_0 = mat.shape[0] - TIME_STEPS\n",
        "    dim_1 = mat.shape[1]\n",
        "    x = np.zeros((dim_0, TIME_STEPS, dim_1))\n",
        "    y = np.zeros((dim_0,))\n",
        "    \n",
        "    for i in tqdm_notebook(range(dim_0)):\n",
        "        x[i] = mat[i:TIME_STEPS+i]\n",
        "        y[i] = mat[TIME_STEPS+i, y_col_index]\n",
        "    print(\"length of time-series i/o\",x.shape,y.shape)\n",
        "    return x, y"
      ],
      "execution_count": null,
      "outputs": []
    },
    {
      "cell_type": "code",
      "metadata": {
        "id": "pff7DQ-Nwonf"
      },
      "source": [
        "def trim_dataset(mat, batch_size):\n",
        "    \"\"\"\n",
        "    trims dataset to a size that's divisible by BATCH_SIZE\n",
        "    \"\"\"\n",
        "    no_of_rows_drop = mat.shape[0]%batch_size\n",
        "    if(no_of_rows_drop > 0):\n",
        "        return mat[:-no_of_rows_drop]\n",
        "    else:\n",
        "        return mat"
      ],
      "execution_count": null,
      "outputs": []
    },
    {
      "cell_type": "markdown",
      "metadata": {
        "id": "HC6sj9IYzafL"
      },
      "source": [
        "##Установка"
      ]
    },
    {
      "cell_type": "code",
      "metadata": {
        "colab": {
          "base_uri": "https://localhost:8080/"
        },
        "id": "RgcK9z72-R9W",
        "outputId": "d34ca1c0-396d-4088-802b-4d7333d7971d"
      },
      "source": [
        "!pip install talos"
      ],
      "execution_count": null,
      "outputs": [
        {
          "output_type": "stream",
          "text": [
            "Collecting talos\n",
            "\u001b[?25l  Downloading https://files.pythonhosted.org/packages/4e/90/2455415b2a2170ad649b66d79ea74ff1af546c012836a2b621323a5fabfd/talos-1.0-py3-none-any.whl (53kB)\n",
            "\r\u001b[K     |██████                          | 10kB 3.0MB/s eta 0:00:01\r\u001b[K     |████████████▏                   | 20kB 5.5MB/s eta 0:00:01\r\u001b[K     |██████████████████▎             | 30kB 7.6MB/s eta 0:00:01\r\u001b[K     |████████████████████████▍       | 40kB 9.5MB/s eta 0:00:01\r\u001b[K     |██████████████████████████████▌ | 51kB 11.3MB/s eta 0:00:01\r\u001b[K     |████████████████████████████████| 61kB 5.9MB/s \n",
            "\u001b[?25hCollecting kerasplotlib\n",
            "  Downloading https://files.pythonhosted.org/packages/7b/b7/31663d3b5ea9afd8c2c6ffa06d3c4e118ef363e12dc75b7c49fb6a2d22aa/kerasplotlib-0.1.6.tar.gz\n",
            "Requirement already satisfied: numpy in /usr/local/lib/python3.7/dist-packages (from talos) (1.19.5)\n",
            "Requirement already satisfied: pandas in /usr/local/lib/python3.7/dist-packages (from talos) (1.1.5)\n",
            "Requirement already satisfied: tensorflow>=2.0.0 in /usr/local/lib/python3.7/dist-packages (from talos) (2.5.0)\n",
            "Requirement already satisfied: tqdm in /usr/local/lib/python3.7/dist-packages (from talos) (4.41.1)\n",
            "Collecting astetik\n",
            "\u001b[?25l  Downloading https://files.pythonhosted.org/packages/03/c1/b40ed42915c66d54728a6059de0d35088b329a677f01e9c6f50a71b5b361/astetik-1.11.1-py3-none-any.whl (5.4MB)\n",
            "\u001b[K     |████████████████████████████████| 5.4MB 15.1MB/s \n",
            "\u001b[?25hCollecting statsmodels>=0.11.0\n",
            "\u001b[?25l  Downloading https://files.pythonhosted.org/packages/da/69/8eef30a6237c54f3c0b524140e2975f4b1eea3489b45eb3339574fc8acee/statsmodels-0.12.2-cp37-cp37m-manylinux1_x86_64.whl (9.5MB)\n",
            "\u001b[K     |████████████████████████████████| 9.5MB 43.7MB/s \n",
            "\u001b[?25hRequirement already satisfied: sklearn in /usr/local/lib/python3.7/dist-packages (from talos) (0.0)\n",
            "Collecting chances\n",
            "  Downloading https://files.pythonhosted.org/packages/fa/d8/d61112d7476dc3074b855f1edd8556cde9b49b7106853f0b060109dd4c82/chances-0.1.9.tar.gz\n",
            "Requirement already satisfied: requests in /usr/local/lib/python3.7/dist-packages (from talos) (2.23.0)\n",
            "Collecting wrangle\n",
            "  Downloading https://files.pythonhosted.org/packages/85/35/bc729e377417613f2d062a890faea5d649ef1a554df21499e9c3a4a5501a/wrangle-0.6.7.tar.gz\n",
            "Requirement already satisfied: ipython in /usr/local/lib/python3.7/dist-packages (from kerasplotlib->talos) (5.5.0)\n",
            "Requirement already satisfied: python-dateutil>=2.7.3 in /usr/local/lib/python3.7/dist-packages (from pandas->talos) (2.8.1)\n",
            "Requirement already satisfied: pytz>=2017.2 in /usr/local/lib/python3.7/dist-packages (from pandas->talos) (2018.9)\n",
            "Requirement already satisfied: tensorboard~=2.5 in /usr/local/lib/python3.7/dist-packages (from tensorflow>=2.0.0->talos) (2.5.0)\n",
            "Requirement already satisfied: gast==0.4.0 in /usr/local/lib/python3.7/dist-packages (from tensorflow>=2.0.0->talos) (0.4.0)\n",
            "Requirement already satisfied: protobuf>=3.9.2 in /usr/local/lib/python3.7/dist-packages (from tensorflow>=2.0.0->talos) (3.12.4)\n",
            "Requirement already satisfied: termcolor~=1.1.0 in /usr/local/lib/python3.7/dist-packages (from tensorflow>=2.0.0->talos) (1.1.0)\n",
            "Requirement already satisfied: wheel~=0.35 in /usr/local/lib/python3.7/dist-packages (from tensorflow>=2.0.0->talos) (0.36.2)\n",
            "Requirement already satisfied: google-pasta~=0.2 in /usr/local/lib/python3.7/dist-packages (from tensorflow>=2.0.0->talos) (0.2.0)\n",
            "Requirement already satisfied: tensorflow-estimator<2.6.0,>=2.5.0rc0 in /usr/local/lib/python3.7/dist-packages (from tensorflow>=2.0.0->talos) (2.5.0)\n",
            "Requirement already satisfied: six~=1.15.0 in /usr/local/lib/python3.7/dist-packages (from tensorflow>=2.0.0->talos) (1.15.0)\n",
            "Requirement already satisfied: astunparse~=1.6.3 in /usr/local/lib/python3.7/dist-packages (from tensorflow>=2.0.0->talos) (1.6.3)\n",
            "Requirement already satisfied: h5py~=3.1.0 in /usr/local/lib/python3.7/dist-packages (from tensorflow>=2.0.0->talos) (3.1.0)\n",
            "Requirement already satisfied: grpcio~=1.34.0 in /usr/local/lib/python3.7/dist-packages (from tensorflow>=2.0.0->talos) (1.34.1)\n",
            "Requirement already satisfied: wrapt~=1.12.1 in /usr/local/lib/python3.7/dist-packages (from tensorflow>=2.0.0->talos) (1.12.1)\n",
            "Requirement already satisfied: keras-nightly~=2.5.0.dev in /usr/local/lib/python3.7/dist-packages (from tensorflow>=2.0.0->talos) (2.5.0.dev2021032900)\n",
            "Requirement already satisfied: typing-extensions~=3.7.4 in /usr/local/lib/python3.7/dist-packages (from tensorflow>=2.0.0->talos) (3.7.4.3)\n",
            "Requirement already satisfied: absl-py~=0.10 in /usr/local/lib/python3.7/dist-packages (from tensorflow>=2.0.0->talos) (0.12.0)\n",
            "Requirement already satisfied: opt-einsum~=3.3.0 in /usr/local/lib/python3.7/dist-packages (from tensorflow>=2.0.0->talos) (3.3.0)\n",
            "Requirement already satisfied: flatbuffers~=1.12.0 in /usr/local/lib/python3.7/dist-packages (from tensorflow>=2.0.0->talos) (1.12)\n",
            "Requirement already satisfied: keras-preprocessing~=1.1.2 in /usr/local/lib/python3.7/dist-packages (from tensorflow>=2.0.0->talos) (1.1.2)\n",
            "Requirement already satisfied: seaborn in /usr/local/lib/python3.7/dist-packages (from astetik->talos) (0.11.1)\n",
            "Requirement already satisfied: patsy in /usr/local/lib/python3.7/dist-packages (from astetik->talos) (0.5.1)\n",
            "Collecting geonamescache\n",
            "\u001b[?25l  Downloading https://files.pythonhosted.org/packages/ab/ba/b7939087621bfeb24c0f52c4b879865a9f902cda72efd119f4275400e692/geonamescache-1.2.0-py3-none-any.whl (2.6MB)\n",
            "\u001b[K     |████████████████████████████████| 2.6MB 38.1MB/s \n",
            "\u001b[?25hRequirement already satisfied: scipy>=1.1 in /usr/local/lib/python3.7/dist-packages (from statsmodels>=0.11.0->talos) (1.4.1)\n",
            "Requirement already satisfied: scikit-learn in /usr/local/lib/python3.7/dist-packages (from sklearn->talos) (0.22.2.post1)\n",
            "Requirement already satisfied: idna<3,>=2.5 in /usr/local/lib/python3.7/dist-packages (from requests->talos) (2.10)\n",
            "Requirement already satisfied: urllib3!=1.25.0,!=1.25.1,<1.26,>=1.21.1 in /usr/local/lib/python3.7/dist-packages (from requests->talos) (1.24.3)\n",
            "Requirement already satisfied: certifi>=2017.4.17 in /usr/local/lib/python3.7/dist-packages (from requests->talos) (2020.12.5)\n",
            "Requirement already satisfied: chardet<4,>=3.0.2 in /usr/local/lib/python3.7/dist-packages (from requests->talos) (3.0.4)\n",
            "Requirement already satisfied: keras in /usr/local/lib/python3.7/dist-packages (from wrangle->talos) (2.4.3)\n",
            "Requirement already satisfied: pygments in /usr/local/lib/python3.7/dist-packages (from ipython->kerasplotlib->talos) (2.6.1)\n",
            "Requirement already satisfied: pexpect; sys_platform != \"win32\" in /usr/local/lib/python3.7/dist-packages (from ipython->kerasplotlib->talos) (4.8.0)\n",
            "Requirement already satisfied: prompt-toolkit<2.0.0,>=1.0.4 in /usr/local/lib/python3.7/dist-packages (from ipython->kerasplotlib->talos) (1.0.18)\n",
            "Requirement already satisfied: simplegeneric>0.8 in /usr/local/lib/python3.7/dist-packages (from ipython->kerasplotlib->talos) (0.8.1)\n",
            "Requirement already satisfied: decorator in /usr/local/lib/python3.7/dist-packages (from ipython->kerasplotlib->talos) (4.4.2)\n",
            "Requirement already satisfied: pickleshare in /usr/local/lib/python3.7/dist-packages (from ipython->kerasplotlib->talos) (0.7.5)\n",
            "Requirement already satisfied: setuptools>=18.5 in /usr/local/lib/python3.7/dist-packages (from ipython->kerasplotlib->talos) (57.0.0)\n",
            "Requirement already satisfied: traitlets>=4.2 in /usr/local/lib/python3.7/dist-packages (from ipython->kerasplotlib->talos) (5.0.5)\n",
            "Requirement already satisfied: tensorboard-plugin-wit>=1.6.0 in /usr/local/lib/python3.7/dist-packages (from tensorboard~=2.5->tensorflow>=2.0.0->talos) (1.8.0)\n",
            "Requirement already satisfied: google-auth<2,>=1.6.3 in /usr/local/lib/python3.7/dist-packages (from tensorboard~=2.5->tensorflow>=2.0.0->talos) (1.30.0)\n",
            "Requirement already satisfied: tensorboard-data-server<0.7.0,>=0.6.0 in /usr/local/lib/python3.7/dist-packages (from tensorboard~=2.5->tensorflow>=2.0.0->talos) (0.6.1)\n",
            "Requirement already satisfied: google-auth-oauthlib<0.5,>=0.4.1 in /usr/local/lib/python3.7/dist-packages (from tensorboard~=2.5->tensorflow>=2.0.0->talos) (0.4.4)\n",
            "Requirement already satisfied: markdown>=2.6.8 in /usr/local/lib/python3.7/dist-packages (from tensorboard~=2.5->tensorflow>=2.0.0->talos) (3.3.4)\n",
            "Requirement already satisfied: werkzeug>=0.11.15 in /usr/local/lib/python3.7/dist-packages (from tensorboard~=2.5->tensorflow>=2.0.0->talos) (1.0.1)\n",
            "Requirement already satisfied: cached-property; python_version < \"3.8\" in /usr/local/lib/python3.7/dist-packages (from h5py~=3.1.0->tensorflow>=2.0.0->talos) (1.5.2)\n",
            "Requirement already satisfied: matplotlib>=2.2 in /usr/local/lib/python3.7/dist-packages (from seaborn->astetik->talos) (3.2.2)\n",
            "Requirement already satisfied: joblib>=0.11 in /usr/local/lib/python3.7/dist-packages (from scikit-learn->sklearn->talos) (1.0.1)\n",
            "Requirement already satisfied: pyyaml in /usr/local/lib/python3.7/dist-packages (from keras->wrangle->talos) (3.13)\n",
            "Requirement already satisfied: ptyprocess>=0.5 in /usr/local/lib/python3.7/dist-packages (from pexpect; sys_platform != \"win32\"->ipython->kerasplotlib->talos) (0.7.0)\n",
            "Requirement already satisfied: wcwidth in /usr/local/lib/python3.7/dist-packages (from prompt-toolkit<2.0.0,>=1.0.4->ipython->kerasplotlib->talos) (0.2.5)\n",
            "Requirement already satisfied: ipython-genutils in /usr/local/lib/python3.7/dist-packages (from traitlets>=4.2->ipython->kerasplotlib->talos) (0.2.0)\n",
            "Requirement already satisfied: cachetools<5.0,>=2.0.0 in /usr/local/lib/python3.7/dist-packages (from google-auth<2,>=1.6.3->tensorboard~=2.5->tensorflow>=2.0.0->talos) (4.2.2)\n",
            "Requirement already satisfied: pyasn1-modules>=0.2.1 in /usr/local/lib/python3.7/dist-packages (from google-auth<2,>=1.6.3->tensorboard~=2.5->tensorflow>=2.0.0->talos) (0.2.8)\n",
            "Requirement already satisfied: rsa<5,>=3.1.4; python_version >= \"3.6\" in /usr/local/lib/python3.7/dist-packages (from google-auth<2,>=1.6.3->tensorboard~=2.5->tensorflow>=2.0.0->talos) (4.7.2)\n",
            "Requirement already satisfied: requests-oauthlib>=0.7.0 in /usr/local/lib/python3.7/dist-packages (from google-auth-oauthlib<0.5,>=0.4.1->tensorboard~=2.5->tensorflow>=2.0.0->talos) (1.3.0)\n",
            "Requirement already satisfied: importlib-metadata; python_version < \"3.8\" in /usr/local/lib/python3.7/dist-packages (from markdown>=2.6.8->tensorboard~=2.5->tensorflow>=2.0.0->talos) (4.0.1)\n",
            "Requirement already satisfied: pyparsing!=2.0.4,!=2.1.2,!=2.1.6,>=2.0.1 in /usr/local/lib/python3.7/dist-packages (from matplotlib>=2.2->seaborn->astetik->talos) (2.4.7)\n",
            "Requirement already satisfied: kiwisolver>=1.0.1 in /usr/local/lib/python3.7/dist-packages (from matplotlib>=2.2->seaborn->astetik->talos) (1.3.1)\n",
            "Requirement already satisfied: cycler>=0.10 in /usr/local/lib/python3.7/dist-packages (from matplotlib>=2.2->seaborn->astetik->talos) (0.10.0)\n",
            "Requirement already satisfied: pyasn1<0.5.0,>=0.4.6 in /usr/local/lib/python3.7/dist-packages (from pyasn1-modules>=0.2.1->google-auth<2,>=1.6.3->tensorboard~=2.5->tensorflow>=2.0.0->talos) (0.4.8)\n",
            "Requirement already satisfied: oauthlib>=3.0.0 in /usr/local/lib/python3.7/dist-packages (from requests-oauthlib>=0.7.0->google-auth-oauthlib<0.5,>=0.4.1->tensorboard~=2.5->tensorflow>=2.0.0->talos) (3.1.0)\n",
            "Requirement already satisfied: zipp>=0.5 in /usr/local/lib/python3.7/dist-packages (from importlib-metadata; python_version < \"3.8\"->markdown>=2.6.8->tensorboard~=2.5->tensorflow>=2.0.0->talos) (3.4.1)\n",
            "Building wheels for collected packages: kerasplotlib, chances, wrangle\n",
            "  Building wheel for kerasplotlib (setup.py) ... \u001b[?25l\u001b[?25hdone\n",
            "  Created wheel for kerasplotlib: filename=kerasplotlib-0.1.6-cp37-none-any.whl size=3603 sha256=517408f178eb8c0b3b58d5fa0a1fca8c6eae419cb70c533f915a1a8d16130a77\n",
            "  Stored in directory: /root/.cache/pip/wheels/9d/d3/8c/9503a22b0a38e8b21c70ad834e4606d209193443e5c709305d\n",
            "  Building wheel for chances (setup.py) ... \u001b[?25l\u001b[?25hdone\n",
            "  Created wheel for chances: filename=chances-0.1.9-cp37-none-any.whl size=41610 sha256=6c7cdbb89afab0dab9b615c641b4b18e8ef0a8abfdfb10c6f799cc79a067df14\n",
            "  Stored in directory: /root/.cache/pip/wheels/75/33/46/c871b94249bd57d17797d049b3dff8e3a09c315afb67eb14c6\n",
            "  Building wheel for wrangle (setup.py) ... \u001b[?25l\u001b[?25hdone\n",
            "  Created wheel for wrangle: filename=wrangle-0.6.7-cp37-none-any.whl size=49894 sha256=bae030d831c0939480cffbacc56828586ef8417008b46f79369bce908986c923\n",
            "  Stored in directory: /root/.cache/pip/wheels/bf/1b/50/d0403ce6ef269e364894da7b50db68db14c4ac62c577561e2d\n",
            "Successfully built kerasplotlib chances wrangle\n",
            "\u001b[31mERROR: wrangle 0.6.7 has requirement scipy==1.2, but you'll have scipy 1.4.1 which is incompatible.\u001b[0m\n",
            "Installing collected packages: kerasplotlib, statsmodels, geonamescache, wrangle, astetik, chances, talos\n",
            "  Found existing installation: statsmodels 0.10.2\n",
            "    Uninstalling statsmodels-0.10.2:\n",
            "      Successfully uninstalled statsmodels-0.10.2\n",
            "Successfully installed astetik-1.11.1 chances-0.1.9 geonamescache-1.2.0 kerasplotlib-0.1.6 statsmodels-0.12.2 talos-1.0 wrangle-0.6.7\n"
          ],
          "name": "stdout"
        }
      ]
    },
    {
      "cell_type": "markdown",
      "metadata": {
        "id": "N-2IPuNRXuhk"
      },
      "source": [
        "## Поиск гиперпараметров"
      ]
    },
    {
      "cell_type": "code",
      "metadata": {
        "id": "alFoVWtvSipF"
      },
      "source": [
        "import talos\n",
        "import sys\n",
        "from keras import optimizers\n",
        "from keras.optimizers import SGD\n",
        "from keras.callbacks import Callback\n",
        "from keras.callbacks import CSVLogger\n",
        "import GPUtil as GPU\n",
        "\n",
        "df_1 = pd.read_csv('/content/drive/MyDrive/Finance machine/5year_1day.csv')\n",
        "\n",
        "train_columns = [\"open\",\"high\",\"low\",\"close\",\"volume\"]\n",
        "\n",
        "INPUT_PATH = os.path.join('Finance Machine')\n",
        "OUTPUT_PATH = os.path.join('Finance Machine')\n",
        "\n",
        "search_params = {\n",
        "    \"lstm_layers\": [1,2],\n",
        "    \"dense_layers\": [1,2],\n",
        "    \"lstm1_nodes\" : [70, 90, 100],\n",
        "    \"lstm2_nodes\" : [40, 60, 70],\n",
        "    \"dense2_nodes\" : [20, 30, 50],\n",
        "    \"batch_size\": [20, 30, 40],\n",
        "    \"time_steps\": [30, 60, 90],\n",
        "    \"lr\": [0.01, 0.001, 0.0001],\n",
        "    #\"epochs\": [30, 50, 70],\n",
        "    \"epochs\" : [1, 3, 5],\n",
        "    \"optimizer\": [\"sgd\", \"rms\"]\n",
        "}\n",
        "\n",
        "# Делим на тестовые и трейновые данные\n",
        "df_train, df_test = train_test_split(df_1, train_size=0.7, test_size=0.3, shuffle=False)\n",
        "print(\"Train--Test size {} {}\".format(len(df_train), len(df_test)))\n",
        "\n",
        "# scale the feature MinMax, build array\n",
        "mat = df_1.loc[:, train_columns].values\n",
        "\n",
        "# удалим не нужные данные\n",
        "print(\"Deleting unused dataframes of total size(KB) {}\"\n",
        "      .format((sys.getsizeof(df_1) + sys.getsizeof(df_train) + sys.getsizeof(df_test)) // 1024))\n",
        "\n",
        "del df_1\n",
        "del df_test\n",
        "del df_train\n",
        "\n",
        "print('-'*80)\n",
        "\n",
        "csv_logger = CSVLogger('Finance Machine')\n",
        "\n",
        "class LogMetrics(Callback):\n",
        "\n",
        "    def __init__(self, search_params, param, comb_no):\n",
        "        self.param = param\n",
        "        self.self_params = search_params\n",
        "        self.comb_no = comb_no\n",
        "\n",
        "    def on_epoch_end(self, epoch, logs):\n",
        "        for i, key in enumerate(self.self_params.keys()):\n",
        "            logs[key] = self.param[key]\n",
        "        logs[\"combination_number\"] = self.comb_no\n",
        "\n",
        "def data(search_params):\n",
        "    \"\"\"\n",
        "    The function that prepares the data for LSTM training specific to this problem as per values in search_params.\n",
        "    \"\"\"\n",
        "    global mat\n",
        "\n",
        "    BATCH_SIZE = search_params[\"batch_size\"]\n",
        "    TIME_STEPS = search_params[\"time_steps\"]\n",
        "    df_train, df_test = train_test_split(mat, train_size=0.7, test_size=0.3, shuffle=False)\n",
        "\n",
        "    # scale the train and test dataset\n",
        "    min_max_scaler = MinMaxScaler()\n",
        "    df_train = min_max_scaler.fit_transform(df_train)\n",
        "    df_test = min_max_scaler.transform(df_test)\n",
        "\n",
        "    x_train, y_train = build_timeseries(df_train, 3)\n",
        "    x_test, y_test = build_timeseries(df_test, 3)\n",
        "    x_train = trim_dataset(x_train, BATCH_SIZE)\n",
        "    y_train = trim_dataset(y_train, BATCH_SIZE)\n",
        "    x_test = trim_dataset(x_test, BATCH_SIZE)\n",
        "    y_test = trim_dataset(y_test, BATCH_SIZE)\n",
        "    print(\"Test size(trimmed) {}, {}\".format(x_test.shape, y_test.shape))\n",
        "    return x_train, y_train, x_test, y_test\n",
        "  \n",
        "def create_model_talos(x_train, y_train, x_test, y_test, params):\n",
        "    x_train, y_train, x_test, y_test = data(params)\n",
        "    BATCH_SIZE = params[\"batch_size\"]\n",
        "    TIME_STEPS = params[\"time_steps\"]\n",
        "    lstm_model = Sequential()\n",
        "    # (batch_size, timesteps, data_dim)\n",
        "    lstm_model.add(LSTM(params[\"lstm1_nodes\"],\n",
        "                        activation=\"tanh\",\n",
        "                        batch_input_shape=(BATCH_SIZE, TIME_STEPS, x_train.shape[2]),\n",
        "                        dropout=0.2,\n",
        "                        recurrent_activation='sigmoid',\n",
        "                        unroll=False,\n",
        "                        use_bias=True,\n",
        "                        recurrent_dropout=0.2, stateful=True, return_sequences=True,\n",
        "                        kernel_initializer='random_uniform'))\n",
        "    if params[\"lstm_layers\"] == 2:\n",
        "        lstm_model.add(LSTM(params[\"lstm2_nodes\"], activation=\"tanh\", \n",
        "                            dropout=0.2,\n",
        "                            recurrent_activation='sigmoid',\n",
        "                            unroll=False,\n",
        "                            use_bias=True))\n",
        "    else:\n",
        "        lstm_model.add(Flatten())\n",
        "\n",
        "    if params[\"dense_layers\"] == 2:\n",
        "        lstm_model.add(Dense(params[\"dense2_nodes\"], activation='relu'))\n",
        "\n",
        "    lstm_model.add(Dense(1, activation='sigmoid'))\n",
        "    if params[\"optimizer\"] == 'rms':\n",
        "        optimizer = optimizers.RMSprop(lr=params[\"lr\"])\n",
        "    else:\n",
        "        optimizer = optimizers.SGD(lr=params[\"lr\"], decay=1e-6, momentum=0.9, \n",
        "                                   nesterov=True)\n",
        "    lstm_model.compile(loss='mean_squared_error', optimizer=optimizer)  # binary_crossentropy\n",
        "    history = lstm_model.fit(x_train, y_train, epochs=params[\"epochs\"], \n",
        "                             verbose=2, batch_size=BATCH_SIZE,\n",
        "                             validation_data=[x_test, y_test],\n",
        "                             callbacks=[LogMetrics(search_params, params, -1),\n",
        "                             csv_logger])\n",
        "    return history, lstm_model\n",
        "\n",
        "print('-'*80)\n",
        "# Hyperparamter Search\n",
        "print(\"Starting Talos scanning...\")\n",
        "t = talos.Scan(x=mat, # data parameter is ignored in this example as here data varies based on batch_size & time_steps\n",
        "               y=mat[:,0], # dummy data just to avoid errors. input and output calculated in create_model_talos\n",
        "               model=create_model_talos,\n",
        "               params=search_params,\n",
        "               experiment_name='df_1')\n",
        "\n",
        "# x - prediction features\n",
        "# y - prediction outcome variable\n",
        "# model - the Keras model as a function\n",
        "# params - the parameter dictionary\n",
        "\n",
        "pickle.dump(t, open(os.path.join(OUTPUT_PATH,\"talos_res\"),\"wb\"))"
      ],
      "execution_count": null,
      "outputs": []
    },
    {
      "cell_type": "markdown",
      "metadata": {
        "id": "wwyWNHgVXyuS"
      },
      "source": [
        "## LSTM"
      ]
    },
    {
      "cell_type": "code",
      "metadata": {
        "colab": {
          "base_uri": "https://localhost:8080/",
          "height": 419
        },
        "id": "seizJE_PmyNG",
        "outputId": "0e9c3c70-e979-4c5f-f6f3-048d5d72b6d1"
      },
      "source": [
        "from matplotlib import pyplot as plt\n",
        "from sklearn.preprocessing import MinMaxScaler\n",
        "from keras.models import Sequential\n",
        "from keras.layers import Dense, Dropout, LSTM, Embedding\n",
        "from keras  import callbacks\n",
        "from keras import optimizers\n",
        "from keras.preprocessing.sequence import pad_sequences\n",
        "import pandas as pd \n",
        "import tensorflow as tf\n",
        "import numpy as np\n",
        "import datetime\n",
        "from datetime import date as dt\n",
        "from datetime import datetime\n",
        "import json\n",
        "from six.moves import urllib\n",
        "\n",
        "api_key = 'GUL2XL60LNWB05XE'\n",
        "ticker = \"AAL\" \n",
        "url_string = \"https://www.alphavantage.co/query?function=TIME_SERIES_DAILY&symbol=%s&outputsize=full&apikey=%s\"%(ticker,api_key)\n",
        "\n",
        "with urllib.request.urlopen(url_string) as url:\n",
        "    data = json.loads(url.read().decode())\n",
        "    data = data['Time Series (Daily)']\n",
        "    df = pd.DataFrame(columns=['Date','Low','High','Close','Open'])\n",
        "    for k, v in data.items():\n",
        "        date = datetime.strptime(k, '%Y-%m-%d')\n",
        "        data_row = [date.date(),float(v['3. low']),float(v['2. high']),\n",
        "                    float(v['4. close']),float(v['1. open'])]\n",
        "        df.loc[-1,:] = data_row\n",
        "        df.index = df.index + 1\n",
        "df.sort_values(by=['Date'], ascending=True, inplace=True)\n",
        "df.index = list(range(df.shape[0]))\n",
        "df.drop(columns=['Date'], inplace=True)\n",
        "df"
      ],
      "execution_count": null,
      "outputs": [
        {
          "output_type": "execute_result",
          "data": {
            "text/html": [
              "<div>\n",
              "<style scoped>\n",
              "    .dataframe tbody tr th:only-of-type {\n",
              "        vertical-align: middle;\n",
              "    }\n",
              "\n",
              "    .dataframe tbody tr th {\n",
              "        vertical-align: top;\n",
              "    }\n",
              "\n",
              "    .dataframe thead th {\n",
              "        text-align: right;\n",
              "    }\n",
              "</style>\n",
              "<table border=\"1\" class=\"dataframe\">\n",
              "  <thead>\n",
              "    <tr style=\"text-align: right;\">\n",
              "      <th></th>\n",
              "      <th>Low</th>\n",
              "      <th>High</th>\n",
              "      <th>Close</th>\n",
              "      <th>Open</th>\n",
              "    </tr>\n",
              "  </thead>\n",
              "  <tbody>\n",
              "    <tr>\n",
              "      <th>0</th>\n",
              "      <td>19.1</td>\n",
              "      <td>21.4</td>\n",
              "      <td>19.3</td>\n",
              "      <td>21.05</td>\n",
              "    </tr>\n",
              "    <tr>\n",
              "      <th>1</th>\n",
              "      <td>19.2</td>\n",
              "      <td>20.53</td>\n",
              "      <td>20.5</td>\n",
              "      <td>19.3</td>\n",
              "    </tr>\n",
              "    <tr>\n",
              "      <th>2</th>\n",
              "      <td>20.1</td>\n",
              "      <td>20.58</td>\n",
              "      <td>20.21</td>\n",
              "      <td>20.4</td>\n",
              "    </tr>\n",
              "    <tr>\n",
              "      <th>3</th>\n",
              "      <td>20.18</td>\n",
              "      <td>21.05</td>\n",
              "      <td>21.01</td>\n",
              "      <td>20.26</td>\n",
              "    </tr>\n",
              "    <tr>\n",
              "      <th>4</th>\n",
              "      <td>20.9</td>\n",
              "      <td>21.75</td>\n",
              "      <td>21.5</td>\n",
              "      <td>20.9</td>\n",
              "    </tr>\n",
              "    <tr>\n",
              "      <th>...</th>\n",
              "      <td>...</td>\n",
              "      <td>...</td>\n",
              "      <td>...</td>\n",
              "      <td>...</td>\n",
              "    </tr>\n",
              "    <tr>\n",
              "      <th>3945</th>\n",
              "      <td>24.51</td>\n",
              "      <td>25.09</td>\n",
              "      <td>24.67</td>\n",
              "      <td>24.68</td>\n",
              "    </tr>\n",
              "    <tr>\n",
              "      <th>3946</th>\n",
              "      <td>24.65</td>\n",
              "      <td>26.04</td>\n",
              "      <td>25.82</td>\n",
              "      <td>24.76</td>\n",
              "    </tr>\n",
              "    <tr>\n",
              "      <th>3947</th>\n",
              "      <td>24.9</td>\n",
              "      <td>25.58</td>\n",
              "      <td>24.93</td>\n",
              "      <td>25.42</td>\n",
              "    </tr>\n",
              "    <tr>\n",
              "      <th>3948</th>\n",
              "      <td>24.255</td>\n",
              "      <td>25.18</td>\n",
              "      <td>24.3</td>\n",
              "      <td>25.13</td>\n",
              "    </tr>\n",
              "    <tr>\n",
              "      <th>3949</th>\n",
              "      <td>24.18</td>\n",
              "      <td>24.7712</td>\n",
              "      <td>24.25</td>\n",
              "      <td>24.49</td>\n",
              "    </tr>\n",
              "  </tbody>\n",
              "</table>\n",
              "<p>3950 rows × 4 columns</p>\n",
              "</div>"
            ],
            "text/plain": [
              "         Low     High  Close   Open\n",
              "0       19.1     21.4   19.3  21.05\n",
              "1       19.2    20.53   20.5   19.3\n",
              "2       20.1    20.58  20.21   20.4\n",
              "3      20.18    21.05  21.01  20.26\n",
              "4       20.9    21.75   21.5   20.9\n",
              "...      ...      ...    ...    ...\n",
              "3945   24.51    25.09  24.67  24.68\n",
              "3946   24.65    26.04  25.82  24.76\n",
              "3947    24.9    25.58  24.93  25.42\n",
              "3948  24.255    25.18   24.3  25.13\n",
              "3949   24.18  24.7712  24.25  24.49\n",
              "\n",
              "[3950 rows x 4 columns]"
            ]
          },
          "metadata": {
            "tags": []
          },
          "execution_count": 64
        }
      ]
    },
    {
      "cell_type": "code",
      "metadata": {
        "colab": {
          "base_uri": "https://localhost:8080/",
          "height": 419
        },
        "id": "ET1czq9tm4k3",
        "outputId": "7ec27b3e-8299-43fa-b46f-0153bfda20fc"
      },
      "source": [
        "new_df = pd.DataFrame(columns=['Low','High','Close','Open','Rise'])\n",
        "banch_size = 10\n",
        "k, l = 0, 1\n",
        "rows = [list(df[:banch_size].mean()), list(df[1:1+banch_size].mean())]\n",
        "for i in range(df.shape[0] - banch_size):\n",
        "    count_rise = int(rows[l][0] > rows[k][0]) + int(rows[l][1] > rows[k][1]) +\\\n",
        "       int(rows[l][2] > rows[k][2]) + int(rows[l][3] > rows[k][3])\n",
        "    new_df.loc[-1,:] = rows[k] + [int(count_rise > 2)]\n",
        "    new_df.index = new_df.index + 1\n",
        "    rows[k] = list(df[i+1:i+1+banch_size].mean())\n",
        "    k, l = l, k\n",
        "new_df"
      ],
      "execution_count": null,
      "outputs": [
        {
          "output_type": "execute_result",
          "data": {
            "text/html": [
              "<div>\n",
              "<style scoped>\n",
              "    .dataframe tbody tr th:only-of-type {\n",
              "        vertical-align: middle;\n",
              "    }\n",
              "\n",
              "    .dataframe tbody tr th {\n",
              "        vertical-align: top;\n",
              "    }\n",
              "\n",
              "    .dataframe thead th {\n",
              "        text-align: right;\n",
              "    }\n",
              "</style>\n",
              "<table border=\"1\" class=\"dataframe\">\n",
              "  <thead>\n",
              "    <tr style=\"text-align: right;\">\n",
              "      <th></th>\n",
              "      <th>Low</th>\n",
              "      <th>High</th>\n",
              "      <th>Close</th>\n",
              "      <th>Open</th>\n",
              "      <th>Rise</th>\n",
              "    </tr>\n",
              "  </thead>\n",
              "  <tbody>\n",
              "    <tr>\n",
              "      <th>3939</th>\n",
              "      <td>20.897</td>\n",
              "      <td>21.801</td>\n",
              "      <td>21.382</td>\n",
              "      <td>21.258</td>\n",
              "      <td>1</td>\n",
              "    </tr>\n",
              "    <tr>\n",
              "      <th>3938</th>\n",
              "      <td>21.167</td>\n",
              "      <td>21.891</td>\n",
              "      <td>21.65</td>\n",
              "      <td>21.379</td>\n",
              "      <td>0</td>\n",
              "    </tr>\n",
              "    <tr>\n",
              "      <th>3937</th>\n",
              "      <td>21.167</td>\n",
              "      <td>21.891</td>\n",
              "      <td>21.65</td>\n",
              "      <td>21.379</td>\n",
              "      <td>1</td>\n",
              "    </tr>\n",
              "    <tr>\n",
              "      <th>3936</th>\n",
              "      <td>21.411</td>\n",
              "      <td>22.043</td>\n",
              "      <td>21.776</td>\n",
              "      <td>21.639</td>\n",
              "      <td>1</td>\n",
              "    </tr>\n",
              "    <tr>\n",
              "      <th>3935</th>\n",
              "      <td>21.541</td>\n",
              "      <td>22.165</td>\n",
              "      <td>21.926</td>\n",
              "      <td>21.769</td>\n",
              "      <td>1</td>\n",
              "    </tr>\n",
              "    <tr>\n",
              "      <th>...</th>\n",
              "      <td>...</td>\n",
              "      <td>...</td>\n",
              "      <td>...</td>\n",
              "      <td>...</td>\n",
              "      <td>...</td>\n",
              "    </tr>\n",
              "    <tr>\n",
              "      <th>4</th>\n",
              "      <td>22.637</td>\n",
              "      <td>23.496</td>\n",
              "      <td>23.198</td>\n",
              "      <td>23</td>\n",
              "      <td>1</td>\n",
              "    </tr>\n",
              "    <tr>\n",
              "      <th>3</th>\n",
              "      <td>22.907</td>\n",
              "      <td>23.73</td>\n",
              "      <td>23.382</td>\n",
              "      <td>23.296</td>\n",
              "      <td>1</td>\n",
              "    </tr>\n",
              "    <tr>\n",
              "      <th>2</th>\n",
              "      <td>23.148</td>\n",
              "      <td>23.899</td>\n",
              "      <td>23.514</td>\n",
              "      <td>23.532</td>\n",
              "      <td>1</td>\n",
              "    </tr>\n",
              "    <tr>\n",
              "      <th>1</th>\n",
              "      <td>23.305</td>\n",
              "      <td>24.109</td>\n",
              "      <td>23.74</td>\n",
              "      <td>23.654</td>\n",
              "      <td>1</td>\n",
              "    </tr>\n",
              "    <tr>\n",
              "      <th>0</th>\n",
              "      <td>23.533</td>\n",
              "      <td>24.34</td>\n",
              "      <td>23.936</td>\n",
              "      <td>23.899</td>\n",
              "      <td>1</td>\n",
              "    </tr>\n",
              "  </tbody>\n",
              "</table>\n",
              "<p>3940 rows × 5 columns</p>\n",
              "</div>"
            ],
            "text/plain": [
              "         Low    High   Close    Open Rise\n",
              "3939  20.897  21.801  21.382  21.258    1\n",
              "3938  21.167  21.891   21.65  21.379    0\n",
              "3937  21.167  21.891   21.65  21.379    1\n",
              "3936  21.411  22.043  21.776  21.639    1\n",
              "3935  21.541  22.165  21.926  21.769    1\n",
              "...      ...     ...     ...     ...  ...\n",
              "4     22.637  23.496  23.198      23    1\n",
              "3     22.907   23.73  23.382  23.296    1\n",
              "2     23.148  23.899  23.514  23.532    1\n",
              "1     23.305  24.109   23.74  23.654    1\n",
              "0     23.533   24.34  23.936  23.899    1\n",
              "\n",
              "[3940 rows x 5 columns]"
            ]
          },
          "metadata": {
            "tags": []
          },
          "execution_count": 65
        }
      ]
    },
    {
      "cell_type": "code",
      "metadata": {
        "colab": {
          "base_uri": "https://localhost:8080/",
          "height": 419
        },
        "id": "yxdYH6QmnDhq",
        "outputId": "1c0fc38c-a3f5-47ab-c42d-97309d0c6eab"
      },
      "source": [
        "scaler = MinMaxScaler(feature_range=(0, 1))\n",
        "new_df[['Low', 'High', 'Close', 'Open']] = scaler.fit_transform(new_df[['Low', 'High', 'Close', 'Open']])\n",
        "new_df"
      ],
      "execution_count": null,
      "outputs": [
        {
          "output_type": "execute_result",
          "data": {
            "text/html": [
              "<div>\n",
              "<style scoped>\n",
              "    .dataframe tbody tr th:only-of-type {\n",
              "        vertical-align: middle;\n",
              "    }\n",
              "\n",
              "    .dataframe tbody tr th {\n",
              "        vertical-align: top;\n",
              "    }\n",
              "\n",
              "    .dataframe thead th {\n",
              "        text-align: right;\n",
              "    }\n",
              "</style>\n",
              "<table border=\"1\" class=\"dataframe\">\n",
              "  <thead>\n",
              "    <tr style=\"text-align: right;\">\n",
              "      <th></th>\n",
              "      <th>Low</th>\n",
              "      <th>High</th>\n",
              "      <th>Close</th>\n",
              "      <th>Open</th>\n",
              "      <th>Rise</th>\n",
              "    </tr>\n",
              "  </thead>\n",
              "  <tbody>\n",
              "    <tr>\n",
              "      <th>3939</th>\n",
              "      <td>0.333251</td>\n",
              "      <td>0.332386</td>\n",
              "      <td>0.333023</td>\n",
              "      <td>0.330349</td>\n",
              "      <td>1</td>\n",
              "    </tr>\n",
              "    <tr>\n",
              "      <th>3938</th>\n",
              "      <td>0.33802</td>\n",
              "      <td>0.333909</td>\n",
              "      <td>0.337648</td>\n",
              "      <td>0.332436</td>\n",
              "      <td>0</td>\n",
              "    </tr>\n",
              "    <tr>\n",
              "      <th>3937</th>\n",
              "      <td>0.33802</td>\n",
              "      <td>0.333909</td>\n",
              "      <td>0.337648</td>\n",
              "      <td>0.332436</td>\n",
              "      <td>1</td>\n",
              "    </tr>\n",
              "    <tr>\n",
              "      <th>3936</th>\n",
              "      <td>0.34233</td>\n",
              "      <td>0.336481</td>\n",
              "      <td>0.339822</td>\n",
              "      <td>0.336921</td>\n",
              "      <td>1</td>\n",
              "    </tr>\n",
              "    <tr>\n",
              "      <th>3935</th>\n",
              "      <td>0.344627</td>\n",
              "      <td>0.338545</td>\n",
              "      <td>0.342411</td>\n",
              "      <td>0.339164</td>\n",
              "      <td>1</td>\n",
              "    </tr>\n",
              "    <tr>\n",
              "      <th>...</th>\n",
              "      <td>...</td>\n",
              "      <td>...</td>\n",
              "      <td>...</td>\n",
              "      <td>...</td>\n",
              "      <td>...</td>\n",
              "    </tr>\n",
              "    <tr>\n",
              "      <th>4</th>\n",
              "      <td>0.363986</td>\n",
              "      <td>0.361067</td>\n",
              "      <td>0.364363</td>\n",
              "      <td>0.3604</td>\n",
              "      <td>1</td>\n",
              "    </tr>\n",
              "    <tr>\n",
              "      <th>3</th>\n",
              "      <td>0.368756</td>\n",
              "      <td>0.365027</td>\n",
              "      <td>0.367538</td>\n",
              "      <td>0.365506</td>\n",
              "      <td>1</td>\n",
              "    </tr>\n",
              "    <tr>\n",
              "      <th>2</th>\n",
              "      <td>0.373013</td>\n",
              "      <td>0.367887</td>\n",
              "      <td>0.369816</td>\n",
              "      <td>0.369577</td>\n",
              "      <td>1</td>\n",
              "    </tr>\n",
              "    <tr>\n",
              "      <th>1</th>\n",
              "      <td>0.375786</td>\n",
              "      <td>0.37144</td>\n",
              "      <td>0.373716</td>\n",
              "      <td>0.371681</td>\n",
              "      <td>1</td>\n",
              "    </tr>\n",
              "    <tr>\n",
              "      <th>0</th>\n",
              "      <td>0.379813</td>\n",
              "      <td>0.375349</td>\n",
              "      <td>0.377099</td>\n",
              "      <td>0.375908</td>\n",
              "      <td>1</td>\n",
              "    </tr>\n",
              "  </tbody>\n",
              "</table>\n",
              "<p>3940 rows × 5 columns</p>\n",
              "</div>"
            ],
            "text/plain": [
              "           Low      High     Close      Open Rise\n",
              "3939  0.333251  0.332386  0.333023  0.330349    1\n",
              "3938   0.33802  0.333909  0.337648  0.332436    0\n",
              "3937   0.33802  0.333909  0.337648  0.332436    1\n",
              "3936   0.34233  0.336481  0.339822  0.336921    1\n",
              "3935  0.344627  0.338545  0.342411  0.339164    1\n",
              "...        ...       ...       ...       ...  ...\n",
              "4     0.363986  0.361067  0.364363    0.3604    1\n",
              "3     0.368756  0.365027  0.367538  0.365506    1\n",
              "2     0.373013  0.367887  0.369816  0.369577    1\n",
              "1     0.375786   0.37144  0.373716  0.371681    1\n",
              "0     0.379813  0.375349  0.377099  0.375908    1\n",
              "\n",
              "[3940 rows x 5 columns]"
            ]
          },
          "metadata": {
            "tags": []
          },
          "execution_count": 67
        }
      ]
    },
    {
      "cell_type": "code",
      "metadata": {
        "id": "azkCBHS2nGZG"
      },
      "source": [
        "from sklearn.model_selection import train_test_split\n",
        "\n",
        "X, y = new_df[['Low', 'High', 'Close', 'Open']], new_df[['Rise']]\n",
        "X = np.asarray(X).astype(np.float32)\n",
        "y = np.asarray(y).astype(np.int32)\n",
        "X_train, X_test, y_train, y_test = train_test_split(\n",
        "    X, y, test_size=0.33)"
      ],
      "execution_count": null,
      "outputs": []
    },
    {
      "cell_type": "code",
      "metadata": {
        "colab": {
          "base_uri": "https://localhost:8080/"
        },
        "id": "9TMhUaePnI3Y",
        "outputId": "4bf8b507-2b0f-44ba-9b4d-f233aec30990"
      },
      "source": [
        "model = Sequential()\n",
        "model.add(Embedding(input_dim = 188, output_dim = 50, input_length = len(X_train[0])))\n",
        "model.add(LSTM(256, activation='sigmoid', return_sequences=True))\n",
        "model.add(Dropout(0.5))\n",
        "model.add(LSTM(256, activation='sigmoid'))\n",
        "model.add(Dropout(0.5))\n",
        "model.add(Dense(1, activation='sigmoid'))\n",
        "\n",
        "model.compile(loss='binary_crossentropy',\n",
        "              optimizer='rmsprop',\n",
        "              metrics=['accuracy'])\n",
        "\n",
        "hist = model.fit(X_train, y_train, batch_size=10, epochs=10, validation_data=(X_test, y_test))\n",
        "\n",
        "score, acc = model.evaluate(X_test, y_test, batch_size=1)\n",
        "print('Test score:', score)\n",
        "print('Test accuracy:', acc)"
      ],
      "execution_count": null,
      "outputs": [
        {
          "output_type": "stream",
          "text": [
            "Epoch 1/10\n",
            "264/264 [==============================] - 34s 40ms/step - loss: 0.7305 - accuracy: 0.5168 - val_loss: 0.6938 - val_accuracy: 0.4850\n",
            "Epoch 2/10\n",
            "264/264 [==============================] - 9s 35ms/step - loss: 0.7121 - accuracy: 0.5115 - val_loss: 0.6927 - val_accuracy: 0.5150\n",
            "Epoch 3/10\n",
            "264/264 [==============================] - 9s 35ms/step - loss: 0.7047 - accuracy: 0.4970 - val_loss: 0.6952 - val_accuracy: 0.4850\n",
            "Epoch 4/10\n",
            "264/264 [==============================] - 9s 35ms/step - loss: 0.7000 - accuracy: 0.5161 - val_loss: 0.6931 - val_accuracy: 0.4850\n",
            "Epoch 5/10\n",
            "264/264 [==============================] - 9s 35ms/step - loss: 0.7014 - accuracy: 0.5026 - val_loss: 0.6937 - val_accuracy: 0.5150\n",
            "Epoch 6/10\n",
            "264/264 [==============================] - 9s 35ms/step - loss: 0.7001 - accuracy: 0.5011 - val_loss: 0.6993 - val_accuracy: 0.4850\n",
            "Epoch 7/10\n",
            "264/264 [==============================] - 9s 36ms/step - loss: 0.6995 - accuracy: 0.5040 - val_loss: 0.6959 - val_accuracy: 0.4850\n",
            "Epoch 8/10\n",
            "264/264 [==============================] - 9s 36ms/step - loss: 0.6934 - accuracy: 0.5252 - val_loss: 0.6957 - val_accuracy: 0.4850\n",
            "Epoch 9/10\n",
            "264/264 [==============================] - 9s 35ms/step - loss: 0.6992 - accuracy: 0.4938 - val_loss: 0.6957 - val_accuracy: 0.4850\n",
            "Epoch 10/10\n",
            "264/264 [==============================] - 9s 35ms/step - loss: 0.7005 - accuracy: 0.4935 - val_loss: 0.6927 - val_accuracy: 0.5150\n",
            "1301/1301 [==============================] - 4s 3ms/step - loss: 0.6927 - accuracy: 0.5150\n",
            "Test score: 0.6926963925361633\n",
            "Test accuracy: 0.5149884819984436\n"
          ],
          "name": "stdout"
        }
      ]
    },
    {
      "cell_type": "markdown",
      "metadata": {
        "id": "ckMEpg9hS-UT"
      },
      "source": [
        "LSTM является наиболее подходящей для моделирования временных связей в глубоких нейронных сетях. Она преодолевает проблему исчезающего градиента в рекуррентной нейронной сети для долгосрочного обучения зависимости в данных с использованием ячеек памяти и вентилей.\n",
        "Ячейка LSTM состоит из нескольких функций вентелей, которые определяют, является ли новая информация важной для задачи прогнозирования и остается ли старая информация актуальной. Эта память называется состоянием ячейки и может хранить всю ранее изученную релевантную информацию для полной обработки последовательности временных рядов. Это позволяет сохранять информацию, полученную намного раньше в последовательности, в ходе полной обработки. В этом состоит основное преимущество архитектуры LSTM перед другими структурами RNN, LSTM способен переносить информацию от начала обработки до конца, тогда как другие сети RNN просто обновляют свое понимание с каждым дополнительным входом в последовательности, Эти способности делают сеть LSTM очень мощной для анализа и последовательностей, таких как временные ряды."
      ]
    }
  ]
}